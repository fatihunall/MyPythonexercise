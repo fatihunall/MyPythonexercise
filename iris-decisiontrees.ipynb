{
 "cells": [
  {
   "cell_type": "code",
   "execution_count": 1,
   "id": "bf176b0c",
   "metadata": {
    "_cell_guid": "b1076dfc-b9ad-4769-8c92-a6c4dae69d19",
    "_uuid": "8f2839f25d086af736a60e9eeb907d3b93b6e0e5",
    "execution": {
     "iopub.execute_input": "2022-08-26T14:00:54.532548Z",
     "iopub.status.busy": "2022-08-26T14:00:54.531034Z",
     "iopub.status.idle": "2022-08-26T14:00:56.444793Z",
     "shell.execute_reply": "2022-08-26T14:00:56.442350Z"
    },
    "papermill": {
     "duration": 1.928962,
     "end_time": "2022-08-26T14:00:56.447856",
     "exception": false,
     "start_time": "2022-08-26T14:00:54.518894",
     "status": "completed"
    },
    "tags": []
   },
   "outputs": [
    {
     "name": "stdout",
     "output_type": "stream",
     "text": [
      "/kaggle/input/iris-flower-dataset/IRIS.csv\n"
     ]
    }
   ],
   "source": [
    "# This Python 3 environment comes with many helpful analytics libraries installed\n",
    "# It is defined by the kaggle/python Docker image: https://github.com/kaggle/docker-python\n",
    "# For example, here's several helpful packages to load\n",
    "\n",
    "import numpy as np # linear algebra\n",
    "import pandas as pd # data processing, CSV file I/O (e.g. pd.read_csv)\n",
    "import seaborn as sns\n",
    "import matplotlib.pyplot as plt\n",
    "import xgboost as xgb\n",
    "\n",
    "# Input data files are available in the read-only \"../input/\" directory\n",
    "# For example, running this (by clicking run or pressing Shift+Enter) will list all files under the input directory\n",
    "\n",
    "import os\n",
    "for dirname, _, filenames in os.walk('/kaggle/input'):\n",
    "    for filename in filenames:\n",
    "        print(os.path.join(dirname, filename))\n",
    "\n",
    "# You can write up to 20GB to the current directory (/kaggle/working/) that gets preserved as output when you create a version using \"Save & Run All\" \n",
    "# You can also write temporary files to /kaggle/temp/, but they won't be saved outside of the current session"
   ]
  },
  {
   "cell_type": "code",
   "execution_count": 2,
   "id": "3281f2a2",
   "metadata": {
    "execution": {
     "iopub.execute_input": "2022-08-26T14:00:56.463915Z",
     "iopub.status.busy": "2022-08-26T14:00:56.462838Z",
     "iopub.status.idle": "2022-08-26T14:00:56.568632Z",
     "shell.execute_reply": "2022-08-26T14:00:56.566970Z"
    },
    "papermill": {
     "duration": 0.117064,
     "end_time": "2022-08-26T14:00:56.571874",
     "exception": false,
     "start_time": "2022-08-26T14:00:56.454810",
     "status": "completed"
    },
    "tags": []
   },
   "outputs": [],
   "source": [
    "from sklearn import datasets"
   ]
  },
  {
   "cell_type": "code",
   "execution_count": 3,
   "id": "949cbd2f",
   "metadata": {
    "execution": {
     "iopub.execute_input": "2022-08-26T14:00:56.587921Z",
     "iopub.status.busy": "2022-08-26T14:00:56.587491Z",
     "iopub.status.idle": "2022-08-26T14:00:56.594578Z",
     "shell.execute_reply": "2022-08-26T14:00:56.592928Z"
    },
    "papermill": {
     "duration": 0.019608,
     "end_time": "2022-08-26T14:00:56.598175",
     "exception": false,
     "start_time": "2022-08-26T14:00:56.578567",
     "status": "completed"
    },
    "tags": []
   },
   "outputs": [],
   "source": [
    "?datasets"
   ]
  },
  {
   "cell_type": "code",
   "execution_count": 4,
   "id": "f85c9e26",
   "metadata": {
    "execution": {
     "iopub.execute_input": "2022-08-26T14:00:56.614005Z",
     "iopub.status.busy": "2022-08-26T14:00:56.612859Z",
     "iopub.status.idle": "2022-08-26T14:00:56.626517Z",
     "shell.execute_reply": "2022-08-26T14:00:56.625294Z"
    },
    "papermill": {
     "duration": 0.024206,
     "end_time": "2022-08-26T14:00:56.629208",
     "exception": false,
     "start_time": "2022-08-26T14:00:56.605002",
     "status": "completed"
    },
    "tags": []
   },
   "outputs": [],
   "source": [
    "iris = datasets.load_iris()"
   ]
  },
  {
   "cell_type": "code",
   "execution_count": 5,
   "id": "a47bb13a",
   "metadata": {
    "execution": {
     "iopub.execute_input": "2022-08-26T14:00:56.644921Z",
     "iopub.status.busy": "2022-08-26T14:00:56.644065Z",
     "iopub.status.idle": "2022-08-26T14:00:56.649417Z",
     "shell.execute_reply": "2022-08-26T14:00:56.648422Z"
    },
    "papermill": {
     "duration": 0.017044,
     "end_time": "2022-08-26T14:00:56.653014",
     "exception": false,
     "start_time": "2022-08-26T14:00:56.635970",
     "status": "completed"
    },
    "tags": []
   },
   "outputs": [],
   "source": [
    "X = iris.data\n",
    "y = iris.target\n"
   ]
  },
  {
   "cell_type": "code",
   "execution_count": 6,
   "id": "3627123f",
   "metadata": {
    "execution": {
     "iopub.execute_input": "2022-08-26T14:00:56.668329Z",
     "iopub.status.busy": "2022-08-26T14:00:56.667903Z",
     "iopub.status.idle": "2022-08-26T14:00:56.677368Z",
     "shell.execute_reply": "2022-08-26T14:00:56.676156Z"
    },
    "papermill": {
     "duration": 0.01992,
     "end_time": "2022-08-26T14:00:56.679784",
     "exception": false,
     "start_time": "2022-08-26T14:00:56.659864",
     "status": "completed"
    },
    "tags": []
   },
   "outputs": [
    {
     "data": {
      "text/plain": [
       "150"
      ]
     },
     "execution_count": 6,
     "metadata": {},
     "output_type": "execute_result"
    }
   ],
   "source": [
    "len(X)"
   ]
  },
  {
   "cell_type": "code",
   "execution_count": 7,
   "id": "492d01e0",
   "metadata": {
    "execution": {
     "iopub.execute_input": "2022-08-26T14:00:56.697145Z",
     "iopub.status.busy": "2022-08-26T14:00:56.695745Z",
     "iopub.status.idle": "2022-08-26T14:00:56.704337Z",
     "shell.execute_reply": "2022-08-26T14:00:56.703279Z"
    },
    "papermill": {
     "duration": 0.019005,
     "end_time": "2022-08-26T14:00:56.706777",
     "exception": false,
     "start_time": "2022-08-26T14:00:56.687772",
     "status": "completed"
    },
    "tags": []
   },
   "outputs": [
    {
     "data": {
      "text/plain": [
       "150"
      ]
     },
     "execution_count": 7,
     "metadata": {},
     "output_type": "execute_result"
    }
   ],
   "source": [
    "len(y)"
   ]
  },
  {
   "cell_type": "code",
   "execution_count": 8,
   "id": "8c603cf9",
   "metadata": {
    "execution": {
     "iopub.execute_input": "2022-08-26T14:00:56.724761Z",
     "iopub.status.busy": "2022-08-26T14:00:56.723914Z",
     "iopub.status.idle": "2022-08-26T14:00:56.729074Z",
     "shell.execute_reply": "2022-08-26T14:00:56.728212Z"
    },
    "papermill": {
     "duration": 0.017107,
     "end_time": "2022-08-26T14:00:56.731486",
     "exception": false,
     "start_time": "2022-08-26T14:00:56.714379",
     "status": "completed"
    },
    "tags": []
   },
   "outputs": [],
   "source": [
    "from sklearn.model_selection import train_test_split"
   ]
  },
  {
   "cell_type": "code",
   "execution_count": 9,
   "id": "63a9cdc6",
   "metadata": {
    "execution": {
     "iopub.execute_input": "2022-08-26T14:00:56.749382Z",
     "iopub.status.busy": "2022-08-26T14:00:56.748482Z",
     "iopub.status.idle": "2022-08-26T14:00:56.757820Z",
     "shell.execute_reply": "2022-08-26T14:00:56.756635Z"
    },
    "papermill": {
     "duration": 0.022505,
     "end_time": "2022-08-26T14:00:56.761067",
     "exception": false,
     "start_time": "2022-08-26T14:00:56.738562",
     "status": "completed"
    },
    "tags": []
   },
   "outputs": [],
   "source": [
    "X_train, X_test, y_train, y_test = train_test_split(X,y,\n",
    "                                                   test_size=0.2,\n",
    "                                                   random_state=42)"
   ]
  },
  {
   "cell_type": "code",
   "execution_count": 10,
   "id": "6d3e4380",
   "metadata": {
    "execution": {
     "iopub.execute_input": "2022-08-26T14:00:56.780324Z",
     "iopub.status.busy": "2022-08-26T14:00:56.779458Z",
     "iopub.status.idle": "2022-08-26T14:00:56.787167Z",
     "shell.execute_reply": "2022-08-26T14:00:56.785754Z"
    },
    "papermill": {
     "duration": 0.021366,
     "end_time": "2022-08-26T14:00:56.790568",
     "exception": false,
     "start_time": "2022-08-26T14:00:56.769202",
     "status": "completed"
    },
    "tags": []
   },
   "outputs": [
    {
     "data": {
      "text/plain": [
       "(120, 4)"
      ]
     },
     "execution_count": 10,
     "metadata": {},
     "output_type": "execute_result"
    }
   ],
   "source": [
    "X_train.shape"
   ]
  },
  {
   "cell_type": "code",
   "execution_count": 11,
   "id": "f05dd85a",
   "metadata": {
    "execution": {
     "iopub.execute_input": "2022-08-26T14:00:56.809318Z",
     "iopub.status.busy": "2022-08-26T14:00:56.807856Z",
     "iopub.status.idle": "2022-08-26T14:00:56.816997Z",
     "shell.execute_reply": "2022-08-26T14:00:56.815779Z"
    },
    "papermill": {
     "duration": 0.021552,
     "end_time": "2022-08-26T14:00:56.819857",
     "exception": false,
     "start_time": "2022-08-26T14:00:56.798305",
     "status": "completed"
    },
    "tags": []
   },
   "outputs": [
    {
     "data": {
      "text/plain": [
       "(30, 4)"
      ]
     },
     "execution_count": 11,
     "metadata": {},
     "output_type": "execute_result"
    }
   ],
   "source": [
    "X_test.shape"
   ]
  },
  {
   "cell_type": "code",
   "execution_count": 12,
   "id": "f1cf606d",
   "metadata": {
    "execution": {
     "iopub.execute_input": "2022-08-26T14:00:56.839537Z",
     "iopub.status.busy": "2022-08-26T14:00:56.837909Z",
     "iopub.status.idle": "2022-08-26T14:00:56.869031Z",
     "shell.execute_reply": "2022-08-26T14:00:56.867776Z"
    },
    "papermill": {
     "duration": 0.044235,
     "end_time": "2022-08-26T14:00:56.872275",
     "exception": false,
     "start_time": "2022-08-26T14:00:56.828040",
     "status": "completed"
    },
    "tags": []
   },
   "outputs": [],
   "source": [
    "dtrain = xgb.DMatrix(X_train, label=y_train)\n",
    "dtest = xgb.DMatrix(X_test, label=y_test)"
   ]
  },
  {
   "cell_type": "code",
   "execution_count": 13,
   "id": "b7ccd06a",
   "metadata": {
    "execution": {
     "iopub.execute_input": "2022-08-26T14:00:56.890022Z",
     "iopub.status.busy": "2022-08-26T14:00:56.888600Z",
     "iopub.status.idle": "2022-08-26T14:00:56.895993Z",
     "shell.execute_reply": "2022-08-26T14:00:56.895003Z"
    },
    "papermill": {
     "duration": 0.019953,
     "end_time": "2022-08-26T14:00:56.899241",
     "exception": false,
     "start_time": "2022-08-26T14:00:56.879288",
     "status": "completed"
    },
    "tags": []
   },
   "outputs": [],
   "source": [
    "parameters = {'max_depth': 3,\n",
    "             'eta': 0.3,\n",
    "             'silent': 1,\n",
    "             'num_class':3}"
   ]
  },
  {
   "cell_type": "code",
   "execution_count": 14,
   "id": "ce84c66e",
   "metadata": {
    "execution": {
     "iopub.execute_input": "2022-08-26T14:00:56.916859Z",
     "iopub.status.busy": "2022-08-26T14:00:56.916122Z",
     "iopub.status.idle": "2022-08-26T14:00:56.921560Z",
     "shell.execute_reply": "2022-08-26T14:00:56.920535Z"
    },
    "papermill": {
     "duration": 0.017512,
     "end_time": "2022-08-26T14:00:56.924667",
     "exception": false,
     "start_time": "2022-08-26T14:00:56.907155",
     "status": "completed"
    },
    "tags": []
   },
   "outputs": [],
   "source": [
    "num_round = 20"
   ]
  },
  {
   "cell_type": "code",
   "execution_count": 15,
   "id": "b8eccf3f",
   "metadata": {
    "execution": {
     "iopub.execute_input": "2022-08-26T14:00:56.945509Z",
     "iopub.status.busy": "2022-08-26T14:00:56.944500Z",
     "iopub.status.idle": "2022-08-26T14:00:57.062598Z",
     "shell.execute_reply": "2022-08-26T14:00:57.060698Z"
    },
    "papermill": {
     "duration": 0.133772,
     "end_time": "2022-08-26T14:00:57.066576",
     "exception": false,
     "start_time": "2022-08-26T14:00:56.932804",
     "status": "completed"
    },
    "tags": []
   },
   "outputs": [
    {
     "name": "stdout",
     "output_type": "stream",
     "text": [
      "[14:00:56] WARNING: ../src/learner.cc:627: \n",
      "Parameters: { \"silent\" } might not be used.\n",
      "\n",
      "  This could be a false alarm, with some parameters getting used by language bindings but\n",
      "  then being mistakenly passed down to XGBoost core, or some parameter actually being used\n",
      "  but getting flagged wrongly here. Please open an issue if you find any such cases.\n",
      "\n",
      "\n"
     ]
    }
   ],
   "source": [
    "boost = xgb.train(parameters, dtrain, num_boost_round=num_round)"
   ]
  },
  {
   "cell_type": "code",
   "execution_count": 16,
   "id": "107a4377",
   "metadata": {
    "execution": {
     "iopub.execute_input": "2022-08-26T14:00:57.084505Z",
     "iopub.status.busy": "2022-08-26T14:00:57.083337Z",
     "iopub.status.idle": "2022-08-26T14:00:57.095020Z",
     "shell.execute_reply": "2022-08-26T14:00:57.093481Z"
    },
    "papermill": {
     "duration": 0.025364,
     "end_time": "2022-08-26T14:00:57.099817",
     "exception": false,
     "start_time": "2022-08-26T14:00:57.074453",
     "status": "completed"
    },
    "tags": []
   },
   "outputs": [],
   "source": [
    "preds = boost.predict(dtest)"
   ]
  },
  {
   "cell_type": "code",
   "execution_count": 17,
   "id": "22a0a23f",
   "metadata": {
    "execution": {
     "iopub.execute_input": "2022-08-26T14:00:57.116520Z",
     "iopub.status.busy": "2022-08-26T14:00:57.116123Z",
     "iopub.status.idle": "2022-08-26T14:00:57.123044Z",
     "shell.execute_reply": "2022-08-26T14:00:57.121800Z"
    },
    "papermill": {
     "duration": 0.018799,
     "end_time": "2022-08-26T14:00:57.125545",
     "exception": false,
     "start_time": "2022-08-26T14:00:57.106746",
     "status": "completed"
    },
    "tags": []
   },
   "outputs": [
    {
     "data": {
      "text/plain": [
       "30"
      ]
     },
     "execution_count": 17,
     "metadata": {},
     "output_type": "execute_result"
    }
   ],
   "source": [
    "len(preds)"
   ]
  },
  {
   "cell_type": "code",
   "execution_count": 18,
   "id": "78ce2853",
   "metadata": {
    "execution": {
     "iopub.execute_input": "2022-08-26T14:00:57.143222Z",
     "iopub.status.busy": "2022-08-26T14:00:57.142385Z",
     "iopub.status.idle": "2022-08-26T14:00:57.150894Z",
     "shell.execute_reply": "2022-08-26T14:00:57.149645Z"
    },
    "papermill": {
     "duration": 0.020437,
     "end_time": "2022-08-26T14:00:57.153436",
     "exception": false,
     "start_time": "2022-08-26T14:00:57.132999",
     "status": "completed"
    },
    "tags": []
   },
   "outputs": [
    {
     "data": {
      "text/plain": [
       "array([1., 0., 2., 1., 1., 0., 1., 2., 1., 1.], dtype=float32)"
      ]
     },
     "execution_count": 18,
     "metadata": {},
     "output_type": "execute_result"
    }
   ],
   "source": [
    "preds[:10]"
   ]
  },
  {
   "cell_type": "code",
   "execution_count": 19,
   "id": "3ab4e6de",
   "metadata": {
    "execution": {
     "iopub.execute_input": "2022-08-26T14:00:57.174163Z",
     "iopub.status.busy": "2022-08-26T14:00:57.173697Z",
     "iopub.status.idle": "2022-08-26T14:00:57.180740Z",
     "shell.execute_reply": "2022-08-26T14:00:57.179535Z"
    },
    "papermill": {
     "duration": 0.021853,
     "end_time": "2022-08-26T14:00:57.183243",
     "exception": false,
     "start_time": "2022-08-26T14:00:57.161390",
     "status": "completed"
    },
    "tags": []
   },
   "outputs": [
    {
     "data": {
      "text/plain": [
       "array([1, 0, 2, 1, 1, 0, 1, 2, 1, 1, 2, 0, 0, 0, 0, 1, 2, 1, 1, 2, 0, 2,\n",
       "       0, 2, 2, 2, 2, 2, 0, 0])"
      ]
     },
     "execution_count": 19,
     "metadata": {},
     "output_type": "execute_result"
    }
   ],
   "source": [
    "y_test"
   ]
  },
  {
   "cell_type": "code",
   "execution_count": 20,
   "id": "d4940c9b",
   "metadata": {
    "execution": {
     "iopub.execute_input": "2022-08-26T14:00:57.201479Z",
     "iopub.status.busy": "2022-08-26T14:00:57.200653Z",
     "iopub.status.idle": "2022-08-26T14:00:57.206362Z",
     "shell.execute_reply": "2022-08-26T14:00:57.205173Z"
    },
    "papermill": {
     "duration": 0.018552,
     "end_time": "2022-08-26T14:00:57.209190",
     "exception": false,
     "start_time": "2022-08-26T14:00:57.190638",
     "status": "completed"
    },
    "tags": []
   },
   "outputs": [],
   "source": [
    "from sklearn.metrics import precision_score"
   ]
  },
  {
   "cell_type": "code",
   "execution_count": 21,
   "id": "6fe3a3eb",
   "metadata": {
    "execution": {
     "iopub.execute_input": "2022-08-26T14:00:57.226766Z",
     "iopub.status.busy": "2022-08-26T14:00:57.225934Z",
     "iopub.status.idle": "2022-08-26T14:00:57.236487Z",
     "shell.execute_reply": "2022-08-26T14:00:57.235372Z"
    },
    "papermill": {
     "duration": 0.021965,
     "end_time": "2022-08-26T14:00:57.238979",
     "exception": false,
     "start_time": "2022-08-26T14:00:57.217014",
     "status": "completed"
    },
    "tags": []
   },
   "outputs": [
    {
     "data": {
      "text/plain": [
       "1.0"
      ]
     },
     "execution_count": 21,
     "metadata": {},
     "output_type": "execute_result"
    }
   ],
   "source": [
    "precision_score(y_test, preds, average='macro')"
   ]
  },
  {
   "cell_type": "code",
   "execution_count": 22,
   "id": "1f11cbb8",
   "metadata": {
    "execution": {
     "iopub.execute_input": "2022-08-26T14:00:57.256782Z",
     "iopub.status.busy": "2022-08-26T14:00:57.255568Z",
     "iopub.status.idle": "2022-08-26T14:00:57.526502Z",
     "shell.execute_reply": "2022-08-26T14:00:57.524148Z"
    },
    "papermill": {
     "duration": 0.283357,
     "end_time": "2022-08-26T14:00:57.529836",
     "exception": false,
     "start_time": "2022-08-26T14:00:57.246479",
     "status": "completed"
    },
    "tags": []
   },
   "outputs": [
    {
     "data": {
      "image/png": "[encoded data removed]",
      "text/plain": [
       "<Figure size 432x288 with 1 Axes>"
      ]
     },
     "metadata": {
      "needs_background": "light"
     },
     "output_type": "display_data"
    }
   ],
   "source": [
    "xgb.plot_importance(boost);"
   ]
  },
  {
   "cell_type": "code",
   "execution_count": 23,
   "id": "6b79d0ba",
   "metadata": {
    "execution": {
     "iopub.execute_input": "2022-08-26T14:00:57.550114Z",
     "iopub.status.busy": "2022-08-26T14:00:57.549653Z",
     "iopub.status.idle": "2022-08-26T14:00:57.558403Z",
     "shell.execute_reply": "2022-08-26T14:00:57.556690Z"
    },
    "papermill": {
     "duration": 0.02326,
     "end_time": "2022-08-26T14:00:57.561842",
     "exception": false,
     "start_time": "2022-08-26T14:00:57.538582",
     "status": "completed"
    },
    "tags": []
   },
   "outputs": [],
   "source": [
    "dtrain.feature_names"
   ]
  },
  {
   "cell_type": "code",
   "execution_count": 24,
   "id": "fc0fdc95",
   "metadata": {
    "execution": {
     "iopub.execute_input": "2022-08-26T14:00:57.582365Z",
     "iopub.status.busy": "2022-08-26T14:00:57.581325Z",
     "iopub.status.idle": "2022-08-26T14:00:57.591834Z",
     "shell.execute_reply": "2022-08-26T14:00:57.589542Z"
    },
    "papermill": {
     "duration": 0.023755,
     "end_time": "2022-08-26T14:00:57.594961",
     "exception": false,
     "start_time": "2022-08-26T14:00:57.571206",
     "status": "completed"
    },
    "tags": []
   },
   "outputs": [
    {
     "data": {
      "text/plain": [
       "['sepal length (cm)',\n",
       " 'sepal width (cm)',\n",
       " 'petal length (cm)',\n",
       " 'petal width (cm)']"
      ]
     },
     "execution_count": 24,
     "metadata": {},
     "output_type": "execute_result"
    }
   ],
   "source": [
    "iris.feature_names"
   ]
  },
  {
   "cell_type": "code",
   "execution_count": null,
   "id": "ec179ba4",
   "metadata": {
    "papermill": {
     "duration": 0.008024,
     "end_time": "2022-08-26T14:00:57.610877",
     "exception": false,
     "start_time": "2022-08-26T14:00:57.602853",
     "status": "completed"
    },
    "tags": []
   },
   "outputs": [],
   "source": []
  }
 ],
 "metadata": {
  "kernelspec": {
   "display_name": "Python 3",
   "language": "python",
   "name": "python3"
  },
  "language_info": {
   "codemirror_mode": {
    "name": "ipython",
    "version": 3
   },
   "file_extension": ".py",
   "mimetype": "text/x-python",
   "name": "python",
   "nbconvert_exporter": "python",
   "pygments_lexer": "ipython3",
   "version": "3.7.12"
  },
  "papermill": {
   "default_parameters": {},
   "duration": 15.708855,
   "end_time": "2022-08-26T14:00:58.547016",
   "environment_variables": {},
   "exception": null,
   "input_path": "__notebook__.ipynb",
   "output_path": "__notebook__.ipynb",
   "parameters": {},
   "start_time": "2022-08-26T14:00:42.838161",
   "version": "2.3.4"
  }
 },
 "nbformat": 4,
 "nbformat_minor": 5
}
