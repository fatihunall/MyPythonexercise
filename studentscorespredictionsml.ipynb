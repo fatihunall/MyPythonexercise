{
 "cells": [
  {
   "cell_type": "code",
   "execution_count": 1,
   "id": "66aeade9",
   "metadata": {
    "_cell_guid": "b1076dfc-b9ad-4769-8c92-a6c4dae69d19",
    "_uuid": "8f2839f25d086af736a60e9eeb907d3b93b6e0e5",
    "execution": {
     "iopub.execute_input": "2022-08-24T07:52:20.570253Z",
     "iopub.status.busy": "2022-08-24T07:52:20.569778Z",
     "iopub.status.idle": "2022-08-24T07:52:20.593722Z",
     "shell.execute_reply": "2022-08-24T07:52:20.591804Z"
    },
    "papermill": {
     "duration": 0.039135,
     "end_time": "2022-08-24T07:52:20.597308",
     "exception": false,
     "start_time": "2022-08-24T07:52:20.558173",
     "status": "completed"
    },
    "tags": []
   },
   "outputs": [
    {
     "name": "stdout",
     "output_type": "stream",
     "text": [
      "/kaggle/input/student-study-hours/score.csv\n"
     ]
    }
   ],
   "source": [
    "# This Python 3 environment comes with many helpful analytics libraries installed\n",
    "# It is defined by the kaggle/python Docker image: https://github.com/kaggle/docker-python\n",
    "# For example, here's several helpful packages to load\n",
    "import matplotlib.pyplot as plt \n",
    "import numpy as np # linear algebra\n",
    "import pandas as pd # data processing, CSV file I/O (e.g. pd.read_csv)\n",
    "\n",
    "# Input data files are available in the read-only \"../input/\" directory\n",
    "# For example, running this (by clicking run or pressing Shift+Enter) will list all files under the input directory\n",
    "\n",
    "import os\n",
    "for dirname, _, filenames in os.walk('/kaggle/input'):\n",
    "    for filename in filenames:\n",
    "        print(os.path.join(dirname, filename))\n",
    "\n",
    "# You can write up to 20GB to the current directory (/kaggle/working/) that gets preserved as output when you create a version using \"Save & Run All\" \n",
    "# You can also write temporary files to /kaggle/temp/, but they won't be saved outside of the current session"
   ]
  },
  {
   "cell_type": "code",
   "execution_count": 2,
   "id": "a733288c",
   "metadata": {
    "execution": {
     "iopub.execute_input": "2022-08-24T07:52:20.618350Z",
     "iopub.status.busy": "2022-08-24T07:52:20.617899Z",
     "iopub.status.idle": "2022-08-24T07:52:20.636035Z",
     "shell.execute_reply": "2022-08-24T07:52:20.635093Z"
    },
    "papermill": {
     "duration": 0.031701,
     "end_time": "2022-08-24T07:52:20.638638",
     "exception": false,
     "start_time": "2022-08-24T07:52:20.606937",
     "status": "completed"
    },
    "tags": []
   },
   "outputs": [],
   "source": [
    "df = pd.read_csv(\"../input/student-study-hours/score.csv\")"
   ]
  },
  {
   "cell_type": "code",
   "execution_count": 3,
   "id": "ddf2cb3b",
   "metadata": {
    "execution": {
     "iopub.execute_input": "2022-08-24T07:52:20.658611Z",
     "iopub.status.busy": "2022-08-24T07:52:20.658220Z",
     "iopub.status.idle": "2022-08-24T07:52:20.678185Z",
     "shell.execute_reply": "2022-08-24T07:52:20.676944Z"
    },
    "papermill": {
     "duration": 0.032909,
     "end_time": "2022-08-24T07:52:20.680707",
     "exception": false,
     "start_time": "2022-08-24T07:52:20.647798",
     "status": "completed"
    },
    "tags": []
   },
   "outputs": [
    {
     "data": {
      "text/html": [
       "<div>\n",
       "<style scoped>\n",
       "    .dataframe tbody tr th:only-of-type {\n",
       "        vertical-align: middle;\n",
       "    }\n",
       "\n",
       "    .dataframe tbody tr th {\n",
       "        vertical-align: top;\n",
       "    }\n",
       "\n",
       "    .dataframe thead th {\n",
       "        text-align: right;\n",
       "    }\n",
       "</style>\n",
       "<table border=\"1\" class=\"dataframe\">\n",
       "  <thead>\n",
       "    <tr style=\"text-align: right;\">\n",
       "      <th></th>\n",
       "      <th>Hours</th>\n",
       "      <th>Scores</th>\n",
       "    </tr>\n",
       "  </thead>\n",
       "  <tbody>\n",
       "    <tr>\n",
       "      <th>0</th>\n",
       "      <td>2.5</td>\n",
       "      <td>21</td>\n",
       "    </tr>\n",
       "    <tr>\n",
       "      <th>1</th>\n",
       "      <td>5.1</td>\n",
       "      <td>47</td>\n",
       "    </tr>\n",
       "    <tr>\n",
       "      <th>2</th>\n",
       "      <td>3.2</td>\n",
       "      <td>27</td>\n",
       "    </tr>\n",
       "    <tr>\n",
       "      <th>3</th>\n",
       "      <td>8.5</td>\n",
       "      <td>75</td>\n",
       "    </tr>\n",
       "    <tr>\n",
       "      <th>4</th>\n",
       "      <td>3.5</td>\n",
       "      <td>30</td>\n",
       "    </tr>\n",
       "  </tbody>\n",
       "</table>\n",
       "</div>"
      ],
      "text/plain": [
       "   Hours  Scores\n",
       "0    2.5      21\n",
       "1    5.1      47\n",
       "2    3.2      27\n",
       "3    8.5      75\n",
       "4    3.5      30"
      ]
     },
     "execution_count": 3,
     "metadata": {},
     "output_type": "execute_result"
    }
   ],
   "source": [
    "df.head()"
   ]
  },
  {
   "cell_type": "code",
   "execution_count": 4,
   "id": "28d63128",
   "metadata": {
    "execution": {
     "iopub.execute_input": "2022-08-24T07:52:20.700098Z",
     "iopub.status.busy": "2022-08-24T07:52:20.699669Z",
     "iopub.status.idle": "2022-08-24T07:52:20.706763Z",
     "shell.execute_reply": "2022-08-24T07:52:20.705595Z"
    },
    "papermill": {
     "duration": 0.019429,
     "end_time": "2022-08-24T07:52:20.708933",
     "exception": false,
     "start_time": "2022-08-24T07:52:20.689504",
     "status": "completed"
    },
    "tags": []
   },
   "outputs": [
    {
     "data": {
      "text/plain": [
       "(25, 2)"
      ]
     },
     "execution_count": 4,
     "metadata": {},
     "output_type": "execute_result"
    }
   ],
   "source": [
    "df.shape"
   ]
  },
  {
   "cell_type": "code",
   "execution_count": 5,
   "id": "25837023",
   "metadata": {
    "execution": {
     "iopub.execute_input": "2022-08-24T07:52:20.728539Z",
     "iopub.status.busy": "2022-08-24T07:52:20.728151Z",
     "iopub.status.idle": "2022-08-24T07:52:20.752997Z",
     "shell.execute_reply": "2022-08-24T07:52:20.751783Z"
    },
    "papermill": {
     "duration": 0.038028,
     "end_time": "2022-08-24T07:52:20.755832",
     "exception": false,
     "start_time": "2022-08-24T07:52:20.717804",
     "status": "completed"
    },
    "tags": []
   },
   "outputs": [
    {
     "name": "stdout",
     "output_type": "stream",
     "text": [
      "<class 'pandas.core.frame.DataFrame'>\n",
      "RangeIndex: 25 entries, 0 to 24\n",
      "Data columns (total 2 columns):\n",
      " #   Column  Non-Null Count  Dtype  \n",
      "---  ------  --------------  -----  \n",
      " 0   Hours   25 non-null     float64\n",
      " 1   Scores  25 non-null     int64  \n",
      "dtypes: float64(1), int64(1)\n",
      "memory usage: 528.0 bytes\n"
     ]
    }
   ],
   "source": [
    "df.info()"
   ]
  },
  {
   "cell_type": "code",
   "execution_count": 6,
   "id": "ee43a09e",
   "metadata": {
    "execution": {
     "iopub.execute_input": "2022-08-24T07:52:20.775681Z",
     "iopub.status.busy": "2022-08-24T07:52:20.775314Z",
     "iopub.status.idle": "2022-08-24T07:52:21.039029Z",
     "shell.execute_reply": "2022-08-24T07:52:21.037604Z"
    },
    "papermill": {
     "duration": 0.2767,
     "end_time": "2022-08-24T07:52:21.041630",
     "exception": false,
     "start_time": "2022-08-24T07:52:20.764930",
     "status": "completed"
    },
    "tags": []
   },
   "outputs": [
    {
     "data": {
      "image/png": "[encoded data removed]",
      "text/plain": [
       "<Figure size 432x288 with 1 Axes>"
      ]
     },
     "metadata": {
      "needs_background": "light"
     },
     "output_type": "display_data"
    }
   ],
   "source": [
    "plt.scatter(x=df[\"Hours\"], y=df[\"Scores\"], color=\"green\")\n",
    "\n",
    "plt.xlabel(\"Hours\")\n",
    "plt.ylabel(\"Scores\")\n",
    "\n",
    "plt.title(\"Hours vs. Scores\")\n",
    "plt.show()"
   ]
  },
  {
   "cell_type": "code",
   "execution_count": 7,
   "id": "30d93578",
   "metadata": {
    "execution": {
     "iopub.execute_input": "2022-08-24T07:52:21.062767Z",
     "iopub.status.busy": "2022-08-24T07:52:21.061787Z",
     "iopub.status.idle": "2022-08-24T07:52:21.066386Z",
     "shell.execute_reply": "2022-08-24T07:52:21.065547Z"
    },
    "papermill": {
     "duration": 0.017294,
     "end_time": "2022-08-24T07:52:21.068443",
     "exception": false,
     "start_time": "2022-08-24T07:52:21.051149",
     "status": "completed"
    },
    "tags": []
   },
   "outputs": [],
   "source": [
    "X = df[\"Hours\"]\n",
    "y = df[\"Scores\"]\n"
   ]
  },
  {
   "cell_type": "code",
   "execution_count": 8,
   "id": "63447e2f",
   "metadata": {
    "execution": {
     "iopub.execute_input": "2022-08-24T07:52:21.089904Z",
     "iopub.status.busy": "2022-08-24T07:52:21.089174Z",
     "iopub.status.idle": "2022-08-24T07:52:21.096366Z",
     "shell.execute_reply": "2022-08-24T07:52:21.094768Z"
    },
    "papermill": {
     "duration": 0.020526,
     "end_time": "2022-08-24T07:52:21.099141",
     "exception": false,
     "start_time": "2022-08-24T07:52:21.078615",
     "status": "completed"
    },
    "tags": []
   },
   "outputs": [
    {
     "name": "stdout",
     "output_type": "stream",
     "text": [
      "0     2.5\n",
      "1     5.1\n",
      "2     3.2\n",
      "3     8.5\n",
      "4     3.5\n",
      "5     1.5\n",
      "6     9.2\n",
      "7     5.5\n",
      "8     8.3\n",
      "9     2.7\n",
      "10    7.7\n",
      "11    5.9\n",
      "12    4.5\n",
      "13    3.3\n",
      "14    1.1\n",
      "15    8.9\n",
      "16    2.5\n",
      "17    1.9\n",
      "18    6.1\n",
      "19    7.4\n",
      "20    2.7\n",
      "21    4.8\n",
      "22    3.8\n",
      "23    6.9\n",
      "24    7.8\n",
      "Name: Hours, dtype: float64\n"
     ]
    }
   ],
   "source": [
    "print(X)"
   ]
  },
  {
   "cell_type": "code",
   "execution_count": 9,
   "id": "8ac810b7",
   "metadata": {
    "execution": {
     "iopub.execute_input": "2022-08-24T07:52:21.120390Z",
     "iopub.status.busy": "2022-08-24T07:52:21.119536Z",
     "iopub.status.idle": "2022-08-24T07:52:21.126329Z",
     "shell.execute_reply": "2022-08-24T07:52:21.124839Z"
    },
    "papermill": {
     "duration": 0.019452,
     "end_time": "2022-08-24T07:52:21.128617",
     "exception": false,
     "start_time": "2022-08-24T07:52:21.109165",
     "status": "completed"
    },
    "tags": []
   },
   "outputs": [
    {
     "name": "stdout",
     "output_type": "stream",
     "text": [
      "0     21\n",
      "1     47\n",
      "2     27\n",
      "3     75\n",
      "4     30\n",
      "5     20\n",
      "6     88\n",
      "7     60\n",
      "8     81\n",
      "9     25\n",
      "10    85\n",
      "11    62\n",
      "12    41\n",
      "13    42\n",
      "14    17\n",
      "15    95\n",
      "16    30\n",
      "17    24\n",
      "18    67\n",
      "19    69\n",
      "20    30\n",
      "21    54\n",
      "22    35\n",
      "23    76\n",
      "24    86\n",
      "Name: Scores, dtype: int64\n"
     ]
    }
   ],
   "source": [
    "print(y)"
   ]
  },
  {
   "cell_type": "code",
   "execution_count": 10,
   "id": "a9e19b7d",
   "metadata": {
    "execution": {
     "iopub.execute_input": "2022-08-24T07:52:21.149516Z",
     "iopub.status.busy": "2022-08-24T07:52:21.148828Z",
     "iopub.status.idle": "2022-08-24T07:52:22.327344Z",
     "shell.execute_reply": "2022-08-24T07:52:22.326385Z"
    },
    "papermill": {
     "duration": 1.19183,
     "end_time": "2022-08-24T07:52:22.330098",
     "exception": false,
     "start_time": "2022-08-24T07:52:21.138268",
     "status": "completed"
    },
    "tags": []
   },
   "outputs": [],
   "source": [
    "import sklearn.model_selection"
   ]
  },
  {
   "cell_type": "code",
   "execution_count": 11,
   "id": "675cd1c0",
   "metadata": {
    "execution": {
     "iopub.execute_input": "2022-08-24T07:52:22.351274Z",
     "iopub.status.busy": "2022-08-24T07:52:22.350376Z",
     "iopub.status.idle": "2022-08-24T07:52:22.356994Z",
     "shell.execute_reply": "2022-08-24T07:52:22.356128Z"
    },
    "papermill": {
     "duration": 0.019714,
     "end_time": "2022-08-24T07:52:22.359214",
     "exception": false,
     "start_time": "2022-08-24T07:52:22.339500",
     "status": "completed"
    },
    "tags": []
   },
   "outputs": [],
   "source": [
    "X_train, X_test, y_train, y_test = sklearn.model_selection.train_test_split(X, y, train_size=0.8)"
   ]
  },
  {
   "cell_type": "code",
   "execution_count": 12,
   "id": "8926fe69",
   "metadata": {
    "execution": {
     "iopub.execute_input": "2022-08-24T07:52:22.380008Z",
     "iopub.status.busy": "2022-08-24T07:52:22.379475Z",
     "iopub.status.idle": "2022-08-24T07:52:22.386830Z",
     "shell.execute_reply": "2022-08-24T07:52:22.385117Z"
    },
    "papermill": {
     "duration": 0.021458,
     "end_time": "2022-08-24T07:52:22.390159",
     "exception": false,
     "start_time": "2022-08-24T07:52:22.368701",
     "status": "completed"
    },
    "tags": []
   },
   "outputs": [
    {
     "name": "stdout",
     "output_type": "stream",
     "text": [
      "23    6.9\n",
      "17    1.9\n",
      "10    7.7\n",
      "8     8.3\n",
      "9     2.7\n",
      "0     2.5\n",
      "18    6.1\n",
      "12    4.5\n",
      "14    1.1\n",
      "6     9.2\n",
      "3     8.5\n",
      "4     3.5\n",
      "20    2.7\n",
      "5     1.5\n",
      "2     3.2\n",
      "15    8.9\n",
      "24    7.8\n",
      "1     5.1\n",
      "13    3.3\n",
      "7     5.5\n",
      "Name: Hours, dtype: float64\n"
     ]
    }
   ],
   "source": [
    "print(X_train)"
   ]
  },
  {
   "cell_type": "code",
   "execution_count": 13,
   "id": "61f84d0f",
   "metadata": {
    "execution": {
     "iopub.execute_input": "2022-08-24T07:52:22.411760Z",
     "iopub.status.busy": "2022-08-24T07:52:22.410933Z",
     "iopub.status.idle": "2022-08-24T07:52:22.418573Z",
     "shell.execute_reply": "2022-08-24T07:52:22.416932Z"
    },
    "papermill": {
     "duration": 0.02159,
     "end_time": "2022-08-24T07:52:22.421369",
     "exception": false,
     "start_time": "2022-08-24T07:52:22.399779",
     "status": "completed"
    },
    "tags": []
   },
   "outputs": [
    {
     "name": "stdout",
     "output_type": "stream",
     "text": [
      "23    76\n",
      "17    24\n",
      "10    85\n",
      "8     81\n",
      "9     25\n",
      "0     21\n",
      "18    67\n",
      "12    41\n",
      "14    17\n",
      "6     88\n",
      "3     75\n",
      "4     30\n",
      "20    30\n",
      "5     20\n",
      "2     27\n",
      "15    95\n",
      "24    86\n",
      "1     47\n",
      "13    42\n",
      "7     60\n",
      "Name: Scores, dtype: int64\n"
     ]
    }
   ],
   "source": [
    "print(y_train)"
   ]
  },
  {
   "cell_type": "code",
   "execution_count": 14,
   "id": "65309f3b",
   "metadata": {
    "execution": {
     "iopub.execute_input": "2022-08-24T07:52:22.443267Z",
     "iopub.status.busy": "2022-08-24T07:52:22.441947Z",
     "iopub.status.idle": "2022-08-24T07:52:22.449577Z",
     "shell.execute_reply": "2022-08-24T07:52:22.447856Z"
    },
    "papermill": {
     "duration": 0.021043,
     "end_time": "2022-08-24T07:52:22.452182",
     "exception": false,
     "start_time": "2022-08-24T07:52:22.431139",
     "status": "completed"
    },
    "tags": []
   },
   "outputs": [
    {
     "name": "stdout",
     "output_type": "stream",
     "text": [
      "16    2.5\n",
      "11    5.9\n",
      "22    3.8\n",
      "19    7.4\n",
      "21    4.8\n",
      "Name: Hours, dtype: float64\n"
     ]
    }
   ],
   "source": [
    "print(X_test)"
   ]
  },
  {
   "cell_type": "code",
   "execution_count": 15,
   "id": "db8289ce",
   "metadata": {
    "execution": {
     "iopub.execute_input": "2022-08-24T07:52:22.473891Z",
     "iopub.status.busy": "2022-08-24T07:52:22.473506Z",
     "iopub.status.idle": "2022-08-24T07:52:22.479755Z",
     "shell.execute_reply": "2022-08-24T07:52:22.478250Z"
    },
    "papermill": {
     "duration": 0.020139,
     "end_time": "2022-08-24T07:52:22.482191",
     "exception": false,
     "start_time": "2022-08-24T07:52:22.462052",
     "status": "completed"
    },
    "tags": []
   },
   "outputs": [
    {
     "name": "stdout",
     "output_type": "stream",
     "text": [
      "16    30\n",
      "11    62\n",
      "22    35\n",
      "19    69\n",
      "21    54\n",
      "Name: Scores, dtype: int64\n"
     ]
    }
   ],
   "source": [
    "print(y_test)"
   ]
  },
  {
   "cell_type": "code",
   "execution_count": 16,
   "id": "db77dec8",
   "metadata": {
    "execution": {
     "iopub.execute_input": "2022-08-24T07:52:22.504020Z",
     "iopub.status.busy": "2022-08-24T07:52:22.503008Z",
     "iopub.status.idle": "2022-08-24T07:52:22.509707Z",
     "shell.execute_reply": "2022-08-24T07:52:22.508815Z"
    },
    "papermill": {
     "duration": 0.019682,
     "end_time": "2022-08-24T07:52:22.511576",
     "exception": false,
     "start_time": "2022-08-24T07:52:22.491894",
     "status": "completed"
    },
    "tags": []
   },
   "outputs": [
    {
     "data": {
      "text/plain": [
       "(5,)"
      ]
     },
     "execution_count": 16,
     "metadata": {},
     "output_type": "execute_result"
    }
   ],
   "source": [
    "X_test.shape"
   ]
  },
  {
   "cell_type": "code",
   "execution_count": 17,
   "id": "9e71f712",
   "metadata": {
    "execution": {
     "iopub.execute_input": "2022-08-24T07:52:22.533214Z",
     "iopub.status.busy": "2022-08-24T07:52:22.532351Z",
     "iopub.status.idle": "2022-08-24T07:52:22.537890Z",
     "shell.execute_reply": "2022-08-24T07:52:22.537060Z"
    },
    "papermill": {
     "duration": 0.018937,
     "end_time": "2022-08-24T07:52:22.540365",
     "exception": false,
     "start_time": "2022-08-24T07:52:22.521428",
     "status": "completed"
    },
    "tags": []
   },
   "outputs": [],
   "source": [
    "X_train = np.array(X_train)\n",
    "y_train = np.array(y_train)\n",
    "X_test = np.array(X_test)\n",
    "y_test = np.array(y_test)\n"
   ]
  },
  {
   "cell_type": "code",
   "execution_count": 18,
   "id": "71d43cd3",
   "metadata": {
    "execution": {
     "iopub.execute_input": "2022-08-24T07:52:22.561889Z",
     "iopub.status.busy": "2022-08-24T07:52:22.561486Z",
     "iopub.status.idle": "2022-08-24T07:52:22.568114Z",
     "shell.execute_reply": "2022-08-24T07:52:22.567009Z"
    },
    "papermill": {
     "duration": 0.020229,
     "end_time": "2022-08-24T07:52:22.570473",
     "exception": false,
     "start_time": "2022-08-24T07:52:22.550244",
     "status": "completed"
    },
    "tags": []
   },
   "outputs": [
    {
     "data": {
      "text/plain": [
       "numpy.ndarray"
      ]
     },
     "execution_count": 18,
     "metadata": {},
     "output_type": "execute_result"
    }
   ],
   "source": [
    "type(X_train)"
   ]
  },
  {
   "cell_type": "code",
   "execution_count": 19,
   "id": "fe646487",
   "metadata": {
    "execution": {
     "iopub.execute_input": "2022-08-24T07:52:22.592224Z",
     "iopub.status.busy": "2022-08-24T07:52:22.591809Z",
     "iopub.status.idle": "2022-08-24T07:52:22.598055Z",
     "shell.execute_reply": "2022-08-24T07:52:22.597303Z"
    },
    "papermill": {
     "duration": 0.019754,
     "end_time": "2022-08-24T07:52:22.600259",
     "exception": false,
     "start_time": "2022-08-24T07:52:22.580505",
     "status": "completed"
    },
    "tags": []
   },
   "outputs": [
    {
     "data": {
      "text/plain": [
       "(20,)"
      ]
     },
     "execution_count": 19,
     "metadata": {},
     "output_type": "execute_result"
    }
   ],
   "source": [
    "X_train.shape"
   ]
  },
  {
   "cell_type": "code",
   "execution_count": 20,
   "id": "9fa96743",
   "metadata": {
    "execution": {
     "iopub.execute_input": "2022-08-24T07:52:22.622301Z",
     "iopub.status.busy": "2022-08-24T07:52:22.621880Z",
     "iopub.status.idle": "2022-08-24T07:52:22.626571Z",
     "shell.execute_reply": "2022-08-24T07:52:22.625564Z"
    },
    "papermill": {
     "duration": 0.018177,
     "end_time": "2022-08-24T07:52:22.628766",
     "exception": false,
     "start_time": "2022-08-24T07:52:22.610589",
     "status": "completed"
    },
    "tags": []
   },
   "outputs": [],
   "source": [
    "X_test = X_test.reshape(5,1)"
   ]
  },
  {
   "cell_type": "code",
   "execution_count": 21,
   "id": "0d4b3a54",
   "metadata": {
    "execution": {
     "iopub.execute_input": "2022-08-24T07:52:22.650366Z",
     "iopub.status.busy": "2022-08-24T07:52:22.649987Z",
     "iopub.status.idle": "2022-08-24T07:52:22.655638Z",
     "shell.execute_reply": "2022-08-24T07:52:22.654911Z"
    },
    "papermill": {
     "duration": 0.01882,
     "end_time": "2022-08-24T07:52:22.657634",
     "exception": false,
     "start_time": "2022-08-24T07:52:22.638814",
     "status": "completed"
    },
    "tags": []
   },
   "outputs": [
    {
     "data": {
      "text/plain": [
       "(5, 1)"
      ]
     },
     "execution_count": 21,
     "metadata": {},
     "output_type": "execute_result"
    }
   ],
   "source": [
    "X_test.shape"
   ]
  },
  {
   "cell_type": "code",
   "execution_count": 22,
   "id": "b84e7393",
   "metadata": {
    "execution": {
     "iopub.execute_input": "2022-08-24T07:52:22.679715Z",
     "iopub.status.busy": "2022-08-24T07:52:22.679321Z",
     "iopub.status.idle": "2022-08-24T07:52:22.684597Z",
     "shell.execute_reply": "2022-08-24T07:52:22.683497Z"
    },
    "papermill": {
     "duration": 0.019125,
     "end_time": "2022-08-24T07:52:22.686813",
     "exception": false,
     "start_time": "2022-08-24T07:52:22.667688",
     "status": "completed"
    },
    "tags": []
   },
   "outputs": [],
   "source": [
    "X_train = X_train.reshape(-1,1)\n",
    "y_train = y_train.reshape(-1,1)\n",
    "X_test = X_test.reshape(-1,1)\n",
    "y_test = y_test.reshape(-1,1)\n",
    "\n"
   ]
  },
  {
   "cell_type": "code",
   "execution_count": 23,
   "id": "93a5abd1",
   "metadata": {
    "execution": {
     "iopub.execute_input": "2022-08-24T07:52:22.708726Z",
     "iopub.status.busy": "2022-08-24T07:52:22.708311Z",
     "iopub.status.idle": "2022-08-24T07:52:22.714637Z",
     "shell.execute_reply": "2022-08-24T07:52:22.713280Z"
    },
    "papermill": {
     "duration": 0.020116,
     "end_time": "2022-08-24T07:52:22.716981",
     "exception": false,
     "start_time": "2022-08-24T07:52:22.696865",
     "status": "completed"
    },
    "tags": []
   },
   "outputs": [
    {
     "name": "stdout",
     "output_type": "stream",
     "text": [
      "(20, 1)\n",
      "(20, 1)\n",
      "(5, 1)\n",
      "(5, 1)\n"
     ]
    }
   ],
   "source": [
    "print(X_train.shape)\n",
    "print(y_train.shape)\n",
    "print(X_test.shape)\n",
    "print(y_test.shape)"
   ]
  },
  {
   "cell_type": "code",
   "execution_count": 24,
   "id": "1566e9a4",
   "metadata": {
    "execution": {
     "iopub.execute_input": "2022-08-24T07:52:22.740228Z",
     "iopub.status.busy": "2022-08-24T07:52:22.739103Z",
     "iopub.status.idle": "2022-08-24T07:52:22.818964Z",
     "shell.execute_reply": "2022-08-24T07:52:22.818131Z"
    },
    "papermill": {
     "duration": 0.09402,
     "end_time": "2022-08-24T07:52:22.821528",
     "exception": false,
     "start_time": "2022-08-24T07:52:22.727508",
     "status": "completed"
    },
    "tags": []
   },
   "outputs": [],
   "source": [
    "import sklearn.linear_model"
   ]
  },
  {
   "cell_type": "code",
   "execution_count": 25,
   "id": "b66304a9",
   "metadata": {
    "execution": {
     "iopub.execute_input": "2022-08-24T07:52:22.844225Z",
     "iopub.status.busy": "2022-08-24T07:52:22.843519Z",
     "iopub.status.idle": "2022-08-24T07:52:22.848426Z",
     "shell.execute_reply": "2022-08-24T07:52:22.847649Z"
    },
    "papermill": {
     "duration": 0.018712,
     "end_time": "2022-08-24T07:52:22.850588",
     "exception": false,
     "start_time": "2022-08-24T07:52:22.831876",
     "status": "completed"
    },
    "tags": []
   },
   "outputs": [],
   "source": [
    "lin_model = sklearn.linear_model.LinearRegression()"
   ]
  },
  {
   "cell_type": "code",
   "execution_count": 26,
   "id": "81a58a54",
   "metadata": {
    "execution": {
     "iopub.execute_input": "2022-08-24T07:52:22.872724Z",
     "iopub.status.busy": "2022-08-24T07:52:22.872015Z",
     "iopub.status.idle": "2022-08-24T07:52:22.894693Z",
     "shell.execute_reply": "2022-08-24T07:52:22.893560Z"
    },
    "papermill": {
     "duration": 0.036443,
     "end_time": "2022-08-24T07:52:22.896972",
     "exception": false,
     "start_time": "2022-08-24T07:52:22.860529",
     "status": "completed"
    },
    "tags": []
   },
   "outputs": [
    {
     "data": {
      "text/plain": [
       "LinearRegression()"
      ]
     },
     "execution_count": 26,
     "metadata": {},
     "output_type": "execute_result"
    }
   ],
   "source": [
    "lin_model.fit(X_train, y_train)"
   ]
  },
  {
   "cell_type": "code",
   "execution_count": 27,
   "id": "a983d07f",
   "metadata": {
    "execution": {
     "iopub.execute_input": "2022-08-24T07:52:22.919699Z",
     "iopub.status.busy": "2022-08-24T07:52:22.918998Z",
     "iopub.status.idle": "2022-08-24T07:52:22.923709Z",
     "shell.execute_reply": "2022-08-24T07:52:22.922990Z"
    },
    "papermill": {
     "duration": 0.018513,
     "end_time": "2022-08-24T07:52:22.925830",
     "exception": false,
     "start_time": "2022-08-24T07:52:22.907317",
     "status": "completed"
    },
    "tags": []
   },
   "outputs": [],
   "source": [
    "import sklearn.metrics"
   ]
  },
  {
   "cell_type": "code",
   "execution_count": 28,
   "id": "5d05ea09",
   "metadata": {
    "execution": {
     "iopub.execute_input": "2022-08-24T07:52:22.948148Z",
     "iopub.status.busy": "2022-08-24T07:52:22.947708Z",
     "iopub.status.idle": "2022-08-24T07:52:22.952986Z",
     "shell.execute_reply": "2022-08-24T07:52:22.951895Z"
    },
    "papermill": {
     "duration": 0.019344,
     "end_time": "2022-08-24T07:52:22.955350",
     "exception": false,
     "start_time": "2022-08-24T07:52:22.936006",
     "status": "completed"
    },
    "tags": []
   },
   "outputs": [],
   "source": [
    "predictions = lin_model.predict(X_test)\n"
   ]
  },
  {
   "cell_type": "code",
   "execution_count": 29,
   "id": "0e0c3c5f",
   "metadata": {
    "execution": {
     "iopub.execute_input": "2022-08-24T07:52:22.977459Z",
     "iopub.status.busy": "2022-08-24T07:52:22.977021Z",
     "iopub.status.idle": "2022-08-24T07:52:22.984357Z",
     "shell.execute_reply": "2022-08-24T07:52:22.983271Z"
    },
    "papermill": {
     "duration": 0.02122,
     "end_time": "2022-08-24T07:52:22.986721",
     "exception": false,
     "start_time": "2022-08-24T07:52:22.965501",
     "status": "completed"
    },
    "tags": []
   },
   "outputs": [
    {
     "data": {
      "text/plain": [
       "array([4.8])"
      ]
     },
     "execution_count": 29,
     "metadata": {},
     "output_type": "execute_result"
    }
   ],
   "source": [
    "X_test[-1]"
   ]
  },
  {
   "cell_type": "code",
   "execution_count": 30,
   "id": "001b7798",
   "metadata": {
    "execution": {
     "iopub.execute_input": "2022-08-24T07:52:23.009564Z",
     "iopub.status.busy": "2022-08-24T07:52:23.009033Z",
     "iopub.status.idle": "2022-08-24T07:52:23.015106Z",
     "shell.execute_reply": "2022-08-24T07:52:23.013931Z"
    },
    "papermill": {
     "duration": 0.020783,
     "end_time": "2022-08-24T07:52:23.017961",
     "exception": false,
     "start_time": "2022-08-24T07:52:22.997178",
     "status": "completed"
    },
    "tags": []
   },
   "outputs": [
    {
     "name": "stdout",
     "output_type": "stream",
     "text": [
      "[[26.68920142]\n",
      " [60.30284196]\n",
      " [39.54147574]\n",
      " [75.13238926]\n",
      " [49.42784061]]\n"
     ]
    }
   ],
   "source": [
    "print(predictions)"
   ]
  },
  {
   "cell_type": "code",
   "execution_count": 31,
   "id": "71ca845e",
   "metadata": {
    "execution": {
     "iopub.execute_input": "2022-08-24T07:52:23.040739Z",
     "iopub.status.busy": "2022-08-24T07:52:23.040350Z",
     "iopub.status.idle": "2022-08-24T07:52:23.047221Z",
     "shell.execute_reply": "2022-08-24T07:52:23.046131Z"
    },
    "papermill": {
     "duration": 0.02139,
     "end_time": "2022-08-24T07:52:23.049947",
     "exception": false,
     "start_time": "2022-08-24T07:52:23.028557",
     "status": "completed"
    },
    "tags": []
   },
   "outputs": [
    {
     "name": "stdout",
     "output_type": "stream",
     "text": [
      "0: Gercek Deger: [30] - Tahmin: [26.68920142]\n",
      "1: Gercek Deger: [62] - Tahmin: [60.30284196]\n",
      "2: Gercek Deger: [35] - Tahmin: [39.54147574]\n",
      "3: Gercek Deger: [69] - Tahmin: [75.13238926]\n",
      "4: Gercek Deger: [54] - Tahmin: [49.42784061]\n"
     ]
    }
   ],
   "source": [
    "for i in range(len(X_test)):\n",
    "    print(f\"{i}: Gercek Deger: {y_test[i]} - Tahmin: {predictions[i]}\")"
   ]
  },
  {
   "cell_type": "code",
   "execution_count": 32,
   "id": "a4c93d50",
   "metadata": {
    "execution": {
     "iopub.execute_input": "2022-08-24T07:52:23.073014Z",
     "iopub.status.busy": "2022-08-24T07:52:23.072333Z",
     "iopub.status.idle": "2022-08-24T07:52:23.079554Z",
     "shell.execute_reply": "2022-08-24T07:52:23.078389Z"
    },
    "papermill": {
     "duration": 0.021326,
     "end_time": "2022-08-24T07:52:23.081984",
     "exception": false,
     "start_time": "2022-08-24T07:52:23.060658",
     "status": "completed"
    },
    "tags": []
   },
   "outputs": [],
   "source": [
    "r2 = sklearn.metrics.r2_score(y_test, predictions)\n",
    "mae = sklearn.metrics.mean_absolute_error(y_test, predictions)\n",
    "mse = sklearn.metrics.mean_squared_error(y_test, predictions)"
   ]
  },
  {
   "cell_type": "code",
   "execution_count": 33,
   "id": "dfc1bb73",
   "metadata": {
    "execution": {
     "iopub.execute_input": "2022-08-24T07:52:23.105431Z",
     "iopub.status.busy": "2022-08-24T07:52:23.104313Z",
     "iopub.status.idle": "2022-08-24T07:52:23.110829Z",
     "shell.execute_reply": "2022-08-24T07:52:23.109450Z"
    },
    "papermill": {
     "duration": 0.021072,
     "end_time": "2022-08-24T07:52:23.113705",
     "exception": false,
     "start_time": "2022-08-24T07:52:23.092633",
     "status": "completed"
    },
    "tags": []
   },
   "outputs": [
    {
     "name": "stdout",
     "output_type": "stream",
     "text": [
      "0.9188677363831826\n",
      "4.050796203029068\n",
      "18.595514820974547\n"
     ]
    }
   ],
   "source": [
    "print(r2)\n",
    "print(mae)\n",
    "print(mse)"
   ]
  },
  {
   "cell_type": "code",
   "execution_count": 34,
   "id": "8ba35ef8",
   "metadata": {
    "execution": {
     "iopub.execute_input": "2022-08-24T07:52:23.137046Z",
     "iopub.status.busy": "2022-08-24T07:52:23.136657Z",
     "iopub.status.idle": "2022-08-24T07:52:23.141993Z",
     "shell.execute_reply": "2022-08-24T07:52:23.140690Z"
    },
    "papermill": {
     "duration": 0.019616,
     "end_time": "2022-08-24T07:52:23.144485",
     "exception": false,
     "start_time": "2022-08-24T07:52:23.124869",
     "status": "completed"
    },
    "tags": []
   },
   "outputs": [],
   "source": [
    "score_tahmini = lin_model.predict([[5]])"
   ]
  },
  {
   "cell_type": "code",
   "execution_count": 35,
   "id": "fe2b60fc",
   "metadata": {
    "execution": {
     "iopub.execute_input": "2022-08-24T07:52:23.168576Z",
     "iopub.status.busy": "2022-08-24T07:52:23.167823Z",
     "iopub.status.idle": "2022-08-24T07:52:23.173777Z",
     "shell.execute_reply": "2022-08-24T07:52:23.172519Z"
    },
    "papermill": {
     "duration": 0.021174,
     "end_time": "2022-08-24T07:52:23.176602",
     "exception": false,
     "start_time": "2022-08-24T07:52:23.155428",
     "status": "completed"
    },
    "tags": []
   },
   "outputs": [
    {
     "name": "stdout",
     "output_type": "stream",
     "text": [
      "[[51.40511358]]\n"
     ]
    }
   ],
   "source": [
    "print(score_tahmini)"
   ]
  },
  {
   "cell_type": "code",
   "execution_count": 36,
   "id": "836f4fe2",
   "metadata": {
    "execution": {
     "iopub.execute_input": "2022-08-24T07:52:23.199865Z",
     "iopub.status.busy": "2022-08-24T07:52:23.199499Z",
     "iopub.status.idle": "2022-08-24T07:52:23.422731Z",
     "shell.execute_reply": "2022-08-24T07:52:23.421368Z"
    },
    "papermill": {
     "duration": 0.237806,
     "end_time": "2022-08-24T07:52:23.425302",
     "exception": false,
     "start_time": "2022-08-24T07:52:23.187496",
     "status": "completed"
    },
    "tags": []
   },
   "outputs": [
    {
     "data": {
      "image/png": "[encoded data removed]",
      "text/plain": [
       "<Figure size 432x288 with 1 Axes>"
      ]
     },
     "metadata": {
      "needs_background": "light"
     },
     "output_type": "display_data"
    }
   ],
   "source": [
    "X_predictions = lin_model.predict(X_train)\n",
    "\n",
    "plt.scatter(x=df[\"Hours\"], y=df[\"Scores\"], color=\"green\")\n",
    "plt.plot(X_train, X_predictions)\n",
    "plt.scatter(x=5, y=lin_model.predict([[7]]), color=\"red\")\n",
    "plt.xlabel(\"Hours\")\n",
    "plt.ylabel(\"Scores\")\n",
    "\n",
    "plt.title(\"Hours vs. Scores\")\n",
    "plt.show()"
   ]
  },
  {
   "cell_type": "code",
   "execution_count": null,
   "id": "bfb3f559",
   "metadata": {
    "papermill": {
     "duration": 0.018188,
     "end_time": "2022-08-24T07:52:23.455164",
     "exception": false,
     "start_time": "2022-08-24T07:52:23.436976",
     "status": "completed"
    },
    "tags": []
   },
   "outputs": [],
   "source": []
  }
 ],
 "metadata": {
  "kernelspec": {
   "display_name": "Python 3",
   "language": "python",
   "name": "python3"
  },
  "language_info": {
   "codemirror_mode": {
    "name": "ipython",
    "version": 3
   },
   "file_extension": ".py",
   "mimetype": "text/x-python",
   "name": "python",
   "nbconvert_exporter": "python",
   "pygments_lexer": "ipython3",
   "version": "3.7.12"
  },
  "papermill": {
   "default_parameters": {},
   "duration": 12.525851,
   "end_time": "2022-08-24T07:52:24.196252",
   "environment_variables": {},
   "exception": null,
   "input_path": "__notebook__.ipynb",
   "output_path": "__notebook__.ipynb",
   "parameters": {},
   "start_time": "2022-08-24T07:52:11.670401",
   "version": "2.3.4"
  }
 },
 "nbformat": 4,
 "nbformat_minor": 5
}
