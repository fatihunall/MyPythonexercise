{
  "nbformat": 4,
  "nbformat_minor": 0,
  "metadata": {
    "colab": {
      "provenance": [],
      "authorship_tag": "ABX9TyPG6WdtIgvFsoku2OILmai8",
      "include_colab_link": true
    },
    "kernelspec": {
      "name": "python3",
      "display_name": "Python 3"
    },
    "language_info": {
      "name": "python"
    }
  },
  "cells": [
    {
      "cell_type": "markdown",
      "metadata": {
        "id": "view-in-github",
        "colab_type": "text"
      },
      "source": [
        "<a href=\"https://colab.research.google.com/github/fatihunall/MyPythonexercises/blob/main/Exercise.ipynb\" target=\"_parent\"><img src=\"https://colab.research.google.com/assets/colab-badge.svg\" alt=\"Open In Colab\"/></a>"
      ]
    },
    {
      "cell_type": "code",
      "execution_count": null,
      "metadata": {
        "colab": {
          "base_uri": "https://localhost:8080/"
        },
        "id": "jFYtLZT2Wt11",
        "outputId": "9b6bd0ca-0b6c-46fa-9e17-56dbaf2108c6"
      },
      "outputs": [
        {
          "output_type": "stream",
          "name": "stdout",
          "text": [
            "Hello Fatih\n"
          ]
        }
      ],
      "source": [
        "def hello(name):\n",
        "  print('Hello', name)\n",
        "hello('Fatih')"
      ]
    },
    {
      "cell_type": "code",
      "source": [
        "def sum(number1, number2):\n",
        "  answer = number1 + number2\n",
        "  return answer\n",
        "\n",
        "result = sum(8,9)\n",
        "print(result)\n"
      ],
      "metadata": {
        "colab": {
          "base_uri": "https://localhost:8080/"
        },
        "id": "Eb6HEGiIgAjJ",
        "outputId": "fc21c404-285e-4101-ca52-8ea2425b7c10"
      },
      "execution_count": null,
      "outputs": [
        {
          "output_type": "stream",
          "name": "stdout",
          "text": [
            "17\n"
          ]
        }
      ]
    },
    {
      "cell_type": "code",
      "source": [
        "def greetings(first_name, last_name, auto_correction =True):\n",
        "  if auto_correction == True:\n",
        "    capitalized_first_name = first_name.capitalize()\n",
        "    capitalized_last_name = last_name.capitalize()\n",
        "    print('Hello', capitalized_first_name, capitalized_last_name)\n",
        "  else:\n",
        "    print('Hello', first_name, last_name)\n",
        "\n",
        "greetings('fAtiH', 'uNaL')\n"
      ],
      "metadata": {
        "colab": {
          "base_uri": "https://localhost:8080/"
        },
        "id": "lluk6txkhg4x",
        "outputId": "3634e145-bac0-49f6-f74d-5f5df43bab33"
      },
      "execution_count": null,
      "outputs": [
        {
          "output_type": "stream",
          "name": "stdout",
          "text": [
            "Hello Fatih Unal\n"
          ]
        }
      ]
    },
    {
      "cell_type": "code",
      "source": [
        "def car(brand, model, colour):\n",
        "  print('My favourite car is the:', brand, model, 'in the colour of', colour)\n",
        "car('Audi', 'R8', 'Black')\n",
        "car(colour = 'Black', model = 'R8', brand = 'Audi')"
      ],
      "metadata": {
        "colab": {
          "base_uri": "https://localhost:8080/"
        },
        "id": "SVw4gozKiz5i",
        "outputId": "0115975e-a420-4578-bdbb-954938dbafb0"
      },
      "execution_count": null,
      "outputs": [
        {
          "output_type": "stream",
          "name": "stdout",
          "text": [
            "My favourite car is the: Audi R8 in the colour of Black\n",
            "My favourite car is the: Audi R8 in the colour of Black\n"
          ]
        }
      ]
    },
    {
      "cell_type": "code",
      "source": [
        "#number = 13 #Global variable\n",
        "def change_number():\n",
        "  global number\n",
        "  number = 4\n",
        "change_number()\n",
        "print(number)\n"
      ],
      "metadata": {
        "colab": {
          "base_uri": "https://localhost:8080/"
        },
        "id": "nQrO5eNHjrAR",
        "outputId": "e9b3be47-16c9-4cde-ba3d-0873367e3420"
      },
      "execution_count": null,
      "outputs": [
        {
          "output_type": "stream",
          "name": "stdout",
          "text": [
            "4\n"
          ]
        }
      ]
    },
    {
      "cell_type": "code",
      "source": [
        "import test"
      ],
      "metadata": {
        "id": "KEAWCy-SDFb5"
      },
      "execution_count": null,
      "outputs": []
    },
    {
      "cell_type": "code",
      "source": [
        "test.greetings('Fatih')"
      ],
      "metadata": {
        "colab": {
          "base_uri": "https://localhost:8080/"
        },
        "id": "tc7kFlD_DJvi",
        "outputId": "af3c7bd6-8f30-44aa-e2af-7e658a3d66a0"
      },
      "execution_count": null,
      "outputs": [
        {
          "output_type": "stream",
          "name": "stdout",
          "text": [
            "Hello Fatih\n"
          ]
        }
      ]
    },
    {
      "cell_type": "code",
      "source": [
        "!pip install seaborn"
      ],
      "metadata": {
        "colab": {
          "base_uri": "https://localhost:8080/"
        },
        "id": "xOLWrgatDVOq",
        "outputId": "ada9ff0c-6830-4da5-e18c-5e2084ae0e19"
      },
      "execution_count": null,
      "outputs": [
        {
          "output_type": "stream",
          "name": "stdout",
          "text": [
            "Looking in indexes: https://pypi.org/simple, https://us-python.pkg.dev/colab-wheels/public/simple/\n",
            "Requirement already satisfied: seaborn in /usr/local/lib/python3.8/dist-packages (0.11.2)\n",
            "Requirement already satisfied: matplotlib>=2.2 in /usr/local/lib/python3.8/dist-packages (from seaborn) (3.2.2)\n",
            "Requirement already satisfied: numpy>=1.15 in /usr/local/lib/python3.8/dist-packages (from seaborn) (1.21.6)\n",
            "Requirement already satisfied: pandas>=0.23 in /usr/local/lib/python3.8/dist-packages (from seaborn) (1.3.5)\n",
            "Requirement already satisfied: scipy>=1.0 in /usr/local/lib/python3.8/dist-packages (from seaborn) (1.7.3)\n",
            "Requirement already satisfied: cycler>=0.10 in /usr/local/lib/python3.8/dist-packages (from matplotlib>=2.2->seaborn) (0.11.0)\n",
            "Requirement already satisfied: python-dateutil>=2.1 in /usr/local/lib/python3.8/dist-packages (from matplotlib>=2.2->seaborn) (2.8.2)\n",
            "Requirement already satisfied: pyparsing!=2.0.4,!=2.1.2,!=2.1.6,>=2.0.1 in /usr/local/lib/python3.8/dist-packages (from matplotlib>=2.2->seaborn) (3.0.9)\n",
            "Requirement already satisfied: kiwisolver>=1.0.1 in /usr/local/lib/python3.8/dist-packages (from matplotlib>=2.2->seaborn) (1.4.4)\n",
            "Requirement already satisfied: pytz>=2017.3 in /usr/local/lib/python3.8/dist-packages (from pandas>=0.23->seaborn) (2022.7)\n",
            "Requirement already satisfied: six>=1.5 in /usr/local/lib/python3.8/dist-packages (from python-dateutil>=2.1->matplotlib>=2.2->seaborn) (1.15.0)\n"
          ]
        }
      ]
    },
    {
      "cell_type": "code",
      "source": [
        "import seaborn as sns"
      ],
      "metadata": {
        "id": "PQoYX6rVDeCr"
      },
      "execution_count": null,
      "outputs": []
    },
    {
      "cell_type": "code",
      "source": [
        "data = [1,2,65,14,3,8,7]"
      ],
      "metadata": {
        "id": "Zh2e1oonDk5i"
      },
      "execution_count": null,
      "outputs": []
    },
    {
      "cell_type": "code",
      "source": [
        "sns.lineplot(range(7), data)"
      ],
      "metadata": {
        "colab": {
          "base_uri": "https://localhost:8080/",
          "height": 337
        },
        "id": "xV3kbSbpDqaS",
        "outputId": "f1596aa0-fdf1-4694-8384-7fae4017691f"
      },
      "execution_count": null,
      "outputs": [
        {
          "output_type": "stream",
          "name": "stderr",
          "text": [
            "/usr/local/lib/python3.8/dist-packages/seaborn/_decorators.py:36: FutureWarning: Pass the following variables as keyword args: x, y. From version 0.12, the only valid positional argument will be `data`, and passing other arguments without an explicit keyword will result in an error or misinterpretation.\n",
            "  warnings.warn(\n"
          ]
        },
        {
          "output_type": "execute_result",
          "data": {
            "text/plain": [
              "<matplotlib.axes._subplots.AxesSubplot at 0x7faf3cc604f0>"
            ]
          },
          "metadata": {},
          "execution_count": 7
        },
        {
          "output_type": "display_data",
          "data": {
            "text/plain": [
              "<Figure size 432x288 with 1 Axes>"
            ],
            "image/png": "[encoded data removed]"
          },
          "metadata": {
            "needs_background": "light"
          }
        }
      ]
    },
    {
      "cell_type": "code",
      "source": [
        "shopping_list = ['Apple', 'Milk', 'Ball', 'Book']"
      ],
      "metadata": {
        "id": "9OurdMxdGN_D"
      },
      "execution_count": 8,
      "outputs": []
    },
    {
      "cell_type": "code",
      "source": [
        "shopping_list.append('Water')  ## adds water to the list\n",
        "print(shopping_list)"
      ],
      "metadata": {
        "colab": {
          "base_uri": "https://localhost:8080/"
        },
        "id": "zWABdX2DGa-D",
        "outputId": "bb7cd4ab-e8aa-4370-e1ca-d0dd64ace3c8"
      },
      "execution_count": 14,
      "outputs": [
        {
          "output_type": "stream",
          "name": "stdout",
          "text": [
            "['Milk', 'Banana', 'Ball', 'Book', 'Water', 'Water', 'Water']\n"
          ]
        }
      ]
    },
    {
      "cell_type": "code",
      "source": [
        "shopping_list.insert(2, 'Banana')\n",
        "print(shopping_list)"
      ],
      "metadata": {
        "colab": {
          "base_uri": "https://localhost:8080/"
        },
        "id": "MCA6tfArGqes",
        "outputId": "bde4abae-4c41-4527-a34e-7c568387f554"
      },
      "execution_count": 15,
      "outputs": [
        {
          "output_type": "stream",
          "name": "stdout",
          "text": [
            "['Milk', 'Banana', 'Banana', 'Ball', 'Book', 'Water', 'Water', 'Water']\n"
          ]
        }
      ]
    },
    {
      "cell_type": "code",
      "source": [
        "shopping_list.remove('Water')\n",
        "print(shopping_list)"
      ],
      "metadata": {
        "colab": {
          "base_uri": "https://localhost:8080/"
        },
        "id": "b4oRyAA-G4Ub",
        "outputId": "c365b146-0bc4-483e-d7c4-640badb166be"
      },
      "execution_count": 19,
      "outputs": [
        {
          "output_type": "stream",
          "name": "stdout",
          "text": [
            "['Milk', 'Banana', 'Ball', 'Book', 'Water']\n"
          ]
        }
      ]
    },
    {
      "cell_type": "code",
      "source": [
        "shopping_list[3] = 'Strawberry' \n",
        "print(shopping_list)"
      ],
      "metadata": {
        "colab": {
          "base_uri": "https://localhost:8080/"
        },
        "id": "G7MS27KuHLI8",
        "outputId": "1b087eec-54c3-4e42-9e37-cccb21074bb6"
      },
      "execution_count": 21,
      "outputs": [
        {
          "output_type": "stream",
          "name": "stdout",
          "text": [
            "['Milk', 'Banana', 'Ball', 'Strawberry', 'Water']\n"
          ]
        }
      ]
    },
    {
      "cell_type": "code",
      "source": [
        "number_list = [1,2,3,4,5]\n"
      ],
      "metadata": {
        "id": "xSvuWtwmHlx8"
      },
      "execution_count": 25,
      "outputs": []
    },
    {
      "cell_type": "code",
      "source": [
        "square_list = []"
      ],
      "metadata": {
        "id": "A4nZ1GgHHoy0"
      },
      "execution_count": 26,
      "outputs": []
    },
    {
      "cell_type": "code",
      "source": [
        "for num in number_list:\n",
        "  square_list.append(num**2)"
      ],
      "metadata": {
        "id": "ZBl_AUV7Hr2c"
      },
      "execution_count": 27,
      "outputs": []
    },
    {
      "cell_type": "code",
      "source": [
        "print(square_list)"
      ],
      "metadata": {
        "colab": {
          "base_uri": "https://localhost:8080/"
        },
        "id": "S9fCDjUjH3m7",
        "outputId": "0d3b97bd-b822-4ba3-8808-b62890e7c4e0"
      },
      "execution_count": 28,
      "outputs": [
        {
          "output_type": "stream",
          "name": "stdout",
          "text": [
            "[1, 4, 9, 16, 25]\n"
          ]
        }
      ]
    },
    {
      "cell_type": "code",
      "source": [
        "double_list2 = [num*2 for num in number_list]"
      ],
      "metadata": {
        "id": "bcLNw9sEINYQ"
      },
      "execution_count": 31,
      "outputs": []
    },
    {
      "cell_type": "code",
      "source": [
        "print(double_list2)"
      ],
      "metadata": {
        "colab": {
          "base_uri": "https://localhost:8080/"
        },
        "id": "zs0hhXzxIajK",
        "outputId": "c9d342c2-87c6-4c7b-afdc-77cb7b73f044"
      },
      "execution_count": 32,
      "outputs": [
        {
          "output_type": "stream",
          "name": "stdout",
          "text": [
            "[2, 4, 6, 8, 10]\n"
          ]
        }
      ]
    },
    {
      "cell_type": "code",
      "source": [
        "shopping_list2 = ('Apple', 'Juice', 'Milk', 'Bread')"
      ],
      "metadata": {
        "id": "W4qJ6a-lIu_8"
      },
      "execution_count": 33,
      "outputs": []
    },
    {
      "cell_type": "code",
      "source": [
        "item1, item2, item3, item4 = shopping_list2\n",
        "print(item1)\n",
        "print(item2)\n",
        "print(item3)\n",
        "print(item4)"
      ],
      "metadata": {
        "colab": {
          "base_uri": "https://localhost:8080/"
        },
        "id": "O0WYfdeLI2Zq",
        "outputId": "c4e72a88-9415-4b39-da17-5cce6ad73792"
      },
      "execution_count": 35,
      "outputs": [
        {
          "output_type": "stream",
          "name": "stdout",
          "text": [
            "Apple\n",
            "Juice\n",
            "Milk\n",
            "Bread\n"
          ]
        }
      ]
    },
    {
      "cell_type": "code",
      "source": [
        "print(shopping_list2[0])"
      ],
      "metadata": {
        "colab": {
          "base_uri": "https://localhost:8080/"
        },
        "id": "kA2-zirsJDlK",
        "outputId": "432e19de-fcda-4bb8-bb24-15561f7f31f2"
      },
      "execution_count": 36,
      "outputs": [
        {
          "output_type": "stream",
          "name": "stdout",
          "text": [
            "Apple\n"
          ]
        }
      ]
    },
    {
      "cell_type": "code",
      "source": [
        "print(shopping_list2[1:3])"
      ],
      "metadata": {
        "colab": {
          "base_uri": "https://localhost:8080/"
        },
        "id": "NVE8n6AjJKQj",
        "outputId": "e17018f0-edff-43ad-ee13-4e81d95691ec"
      },
      "execution_count": 37,
      "outputs": [
        {
          "output_type": "stream",
          "name": "stdout",
          "text": [
            "('Juice', 'Milk')\n"
          ]
        }
      ]
    },
    {
      "cell_type": "markdown",
      "source": [
        "shopping_list2*[2] = 'Water'  ##Tuples are immutable while lists are mutable"
      ],
      "metadata": {
        "id": "sii6ArH-JOvj"
      }
    },
    {
      "cell_type": "code",
      "source": [
        "phone_book = {'Fatih Unal': '+905077901785', 'Aydan Unal': '+905067715089', 'Ethem Unal': '+905557105738'}  ## dictionary = {'key': 'value'}"
      ],
      "metadata": {
        "id": "KfDzraJtJhJc"
      },
      "execution_count": 43,
      "outputs": []
    },
    {
      "cell_type": "code",
      "source": [
        "print(phone_book['Fatih Unal'])"
      ],
      "metadata": {
        "colab": {
          "base_uri": "https://localhost:8080/"
        },
        "id": "UBKlt3UYMVae",
        "outputId": "d511e286-a7bc-4ac4-ecd9-28a4603c35d2"
      },
      "execution_count": 44,
      "outputs": [
        {
          "output_type": "stream",
          "name": "stdout",
          "text": [
            "+905077901785\n"
          ]
        }
      ]
    },
    {
      "cell_type": "code",
      "source": [
        "inventory = dict()"
      ],
      "metadata": {
        "id": "y81uInutMfqt"
      },
      "execution_count": 45,
      "outputs": []
    },
    {
      "cell_type": "code",
      "source": [
        "inventory['bananas'] = 25\n",
        "inventory['milk'] = 100"
      ],
      "metadata": {
        "id": "rqlmZ86KMi3D"
      },
      "execution_count": 46,
      "outputs": []
    },
    {
      "cell_type": "code",
      "source": [
        "print(inventory)"
      ],
      "metadata": {
        "colab": {
          "base_uri": "https://localhost:8080/"
        },
        "id": "bWZMKctZMryk",
        "outputId": "1a761620-31dd-42bb-f03e-f73478913159"
      },
      "execution_count": 47,
      "outputs": [
        {
          "output_type": "stream",
          "name": "stdout",
          "text": [
            "{'bananas': 25, 'milk': 100}\n"
          ]
        }
      ]
    },
    {
      "cell_type": "code",
      "source": [
        "print(inventory['bananas'])"
      ],
      "metadata": {
        "colab": {
          "base_uri": "https://localhost:8080/"
        },
        "id": "EfUSyvWwMwFk",
        "outputId": "cc3fe204-b13f-494c-c5aa-2719d3e1d6e9"
      },
      "execution_count": 48,
      "outputs": [
        {
          "output_type": "stream",
          "name": "stdout",
          "text": [
            "25\n"
          ]
        }
      ]
    },
    {
      "cell_type": "code",
      "source": [
        "print(inventory.keys())"
      ],
      "metadata": {
        "colab": {
          "base_uri": "https://localhost:8080/"
        },
        "id": "mqZGEKrQM1IE",
        "outputId": "cde9656c-18ed-4fe1-bb0e-e3c26d57f6b3"
      },
      "execution_count": 49,
      "outputs": [
        {
          "output_type": "stream",
          "name": "stdout",
          "text": [
            "dict_keys(['bananas', 'milk'])\n"
          ]
        }
      ]
    },
    {
      "cell_type": "code",
      "source": [
        "print(inventory.values())"
      ],
      "metadata": {
        "colab": {
          "base_uri": "https://localhost:8080/"
        },
        "id": "dbVrcOHJM5gz",
        "outputId": "495ceeb2-7442-4956-fd58-fdb78784b632"
      },
      "execution_count": 50,
      "outputs": [
        {
          "output_type": "stream",
          "name": "stdout",
          "text": [
            "dict_values([25, 100])\n"
          ]
        }
      ]
    },
    {
      "cell_type": "code",
      "source": [
        "print(inventory.items())"
      ],
      "metadata": {
        "colab": {
          "base_uri": "https://localhost:8080/"
        },
        "id": "49BdKBCPM_WD",
        "outputId": "2a4785db-7594-47e7-a06b-e1367ede30fc"
      },
      "execution_count": 51,
      "outputs": [
        {
          "output_type": "stream",
          "name": "stdout",
          "text": [
            "dict_items([('bananas', 25), ('milk', 100)])\n"
          ]
        }
      ]
    },
    {
      "cell_type": "code",
      "source": [
        "for element in inventory:\n",
        "  print(element)"
      ],
      "metadata": {
        "colab": {
          "base_uri": "https://localhost:8080/"
        },
        "id": "GwBoeD_1NELk",
        "outputId": "31e26818-3f95-4c4e-928b-f2da063d3264"
      },
      "execution_count": 53,
      "outputs": [
        {
          "output_type": "stream",
          "name": "stdout",
          "text": [
            "bananas\n",
            "milk\n"
          ]
        }
      ]
    },
    {
      "cell_type": "code",
      "source": [
        "for key in inventory:\n",
        "  inventory[key] +=100\n",
        "\n",
        "print(inventory)"
      ],
      "metadata": {
        "colab": {
          "base_uri": "https://localhost:8080/"
        },
        "id": "DeYL619hNVJE",
        "outputId": "17fc12f1-8c61-418e-be54-06301bfc9cc2"
      },
      "execution_count": 55,
      "outputs": [
        {
          "output_type": "stream",
          "name": "stdout",
          "text": [
            "{'bananas': 125, 'milk': 200}\n"
          ]
        }
      ]
    },
    {
      "cell_type": "code",
      "source": [
        "for key, value in inventory.items():\n",
        "  if value > 180:\n",
        "    print('too many', key)\n",
        "  else:\n",
        "    print('enough', key)"
      ],
      "metadata": {
        "colab": {
          "base_uri": "https://localhost:8080/"
        },
        "id": "5PA-dcRSNl_V",
        "outputId": "9b0f56c1-9e74-405f-c17a-9e5eb080b554"
      },
      "execution_count": 58,
      "outputs": [
        {
          "output_type": "stream",
          "name": "stdout",
          "text": [
            "enough bananas\n",
            "too many milk\n"
          ]
        }
      ]
    },
    {
      "cell_type": "code",
      "source": [
        "hello_file = open('hello.txt', 'w')\n"
      ],
      "metadata": {
        "id": "OVYdza5oSh6O"
      },
      "execution_count": 59,
      "outputs": []
    },
    {
      "cell_type": "code",
      "source": [
        "hello_file.write('Hello world, this is Python exercise')\n",
        "hello_file.close()"
      ],
      "metadata": {
        "id": "huFallDESqt9"
      },
      "execution_count": 60,
      "outputs": []
    },
    {
      "cell_type": "code",
      "source": [
        "hello_file = open('hello.txt', 'r')\n",
        "message = hello_file.read()"
      ],
      "metadata": {
        "id": "d0KxNMO0S5HF"
      },
      "execution_count": 68,
      "outputs": []
    },
    {
      "cell_type": "code",
      "source": [
        "print(message)"
      ],
      "metadata": {
        "colab": {
          "base_uri": "https://localhost:8080/"
        },
        "id": "_sjQzVYSTCd1",
        "outputId": "67d9de70-54ac-4093-c9f1-a350ee287cef"
      },
      "execution_count": 69,
      "outputs": [
        {
          "output_type": "stream",
          "name": "stdout",
          "text": [
            "Hello world, this is Python exercise\n"
          ]
        }
      ]
    },
    {
      "cell_type": "code",
      "source": [
        "import random\n",
        "with open('number_history.txt', 'w') as numbers_file:\n",
        "\n",
        "\n",
        "  while True:\n",
        "    random_number = random.randrange(1000)\n",
        "    print(random_number)\n",
        "    numbers_file.write(str(random_number))\n",
        "    numbers_file.write('\\n')\n",
        "\n",
        "\n",
        "    if random_number == 777:\n",
        "      print('Found!')\n",
        "      numbers_file.write('Found!')\n",
        "      numbers_file.close()\n",
        "      break\n",
        "  "
      ],
      "metadata": {
        "colab": {
          "base_uri": "https://localhost:8080/"
        },
        "id": "tUU6wtI6TVrE",
        "outputId": "757ce680-9c70-40ee-9a68-d666bc70bf4e"
      },
      "execution_count": 77,
      "outputs": [
        {
          "output_type": "stream",
          "name": "stdout",
          "text": [
            "79\n",
            "667\n",
            "690\n",
            "691\n",
            "285\n",
            "515\n",
            "617\n",
            "930\n",
            "76\n",
            "550\n",
            "369\n",
            "566\n",
            "997\n",
            "720\n",
            "606\n",
            "723\n",
            "779\n",
            "972\n",
            "169\n",
            "701\n",
            "169\n",
            "192\n",
            "458\n",
            "225\n",
            "83\n",
            "500\n",
            "302\n",
            "537\n",
            "520\n",
            "180\n",
            "912\n",
            "641\n",
            "740\n",
            "821\n",
            "337\n",
            "80\n",
            "681\n",
            "50\n",
            "867\n",
            "71\n",
            "920\n",
            "223\n",
            "766\n",
            "522\n",
            "365\n",
            "99\n",
            "516\n",
            "224\n",
            "807\n",
            "163\n",
            "97\n",
            "498\n",
            "683\n",
            "342\n",
            "994\n",
            "387\n",
            "862\n",
            "49\n",
            "409\n",
            "549\n",
            "165\n",
            "179\n",
            "968\n",
            "892\n",
            "199\n",
            "387\n",
            "258\n",
            "500\n",
            "455\n",
            "619\n",
            "414\n",
            "962\n",
            "210\n",
            "176\n",
            "422\n",
            "908\n",
            "804\n",
            "336\n",
            "60\n",
            "660\n",
            "882\n",
            "469\n",
            "260\n",
            "364\n",
            "794\n",
            "778\n",
            "743\n",
            "853\n",
            "563\n",
            "214\n",
            "989\n",
            "401\n",
            "919\n",
            "567\n",
            "862\n",
            "65\n",
            "107\n",
            "431\n",
            "115\n",
            "947\n",
            "78\n",
            "270\n",
            "867\n",
            "675\n",
            "739\n",
            "124\n",
            "996\n",
            "142\n",
            "447\n",
            "352\n",
            "632\n",
            "821\n",
            "817\n",
            "624\n",
            "622\n",
            "75\n",
            "162\n",
            "727\n",
            "948\n",
            "240\n",
            "210\n",
            "146\n",
            "621\n",
            "427\n",
            "557\n",
            "459\n",
            "669\n",
            "128\n",
            "829\n",
            "960\n",
            "242\n",
            "579\n",
            "682\n",
            "739\n",
            "223\n",
            "952\n",
            "27\n",
            "459\n",
            "430\n",
            "742\n",
            "237\n",
            "848\n",
            "175\n",
            "644\n",
            "52\n",
            "857\n",
            "195\n",
            "320\n",
            "74\n",
            "114\n",
            "212\n",
            "354\n",
            "164\n",
            "322\n",
            "453\n",
            "477\n",
            "863\n",
            "484\n",
            "237\n",
            "772\n",
            "980\n",
            "168\n",
            "204\n",
            "232\n",
            "799\n",
            "902\n",
            "537\n",
            "246\n",
            "680\n",
            "987\n",
            "290\n",
            "563\n",
            "615\n",
            "830\n",
            "239\n",
            "764\n",
            "53\n",
            "561\n",
            "602\n",
            "813\n",
            "511\n",
            "788\n",
            "125\n",
            "287\n",
            "377\n",
            "324\n",
            "570\n",
            "658\n",
            "678\n",
            "507\n",
            "270\n",
            "308\n",
            "259\n",
            "87\n",
            "324\n",
            "732\n",
            "709\n",
            "70\n",
            "111\n",
            "200\n",
            "306\n",
            "99\n",
            "232\n",
            "351\n",
            "685\n",
            "43\n",
            "517\n",
            "83\n",
            "551\n",
            "861\n",
            "712\n",
            "87\n",
            "817\n",
            "293\n",
            "972\n",
            "788\n",
            "616\n",
            "597\n",
            "141\n",
            "727\n",
            "462\n",
            "871\n",
            "653\n",
            "98\n",
            "507\n",
            "84\n",
            "0\n",
            "577\n",
            "803\n",
            "63\n",
            "586\n",
            "412\n",
            "316\n",
            "3\n",
            "86\n",
            "727\n",
            "928\n",
            "979\n",
            "255\n",
            "828\n",
            "476\n",
            "468\n",
            "368\n",
            "774\n",
            "805\n",
            "429\n",
            "658\n",
            "26\n",
            "653\n",
            "957\n",
            "185\n",
            "614\n",
            "682\n",
            "120\n",
            "236\n",
            "610\n",
            "473\n",
            "708\n",
            "202\n",
            "713\n",
            "157\n",
            "354\n",
            "754\n",
            "214\n",
            "229\n",
            "45\n",
            "466\n",
            "187\n",
            "605\n",
            "233\n",
            "291\n",
            "651\n",
            "260\n",
            "248\n",
            "621\n",
            "118\n",
            "101\n",
            "681\n",
            "12\n",
            "361\n",
            "164\n",
            "306\n",
            "57\n",
            "999\n",
            "707\n",
            "174\n",
            "56\n",
            "736\n",
            "569\n",
            "489\n",
            "275\n",
            "57\n",
            "107\n",
            "514\n",
            "835\n",
            "643\n",
            "502\n",
            "687\n",
            "742\n",
            "555\n",
            "527\n",
            "747\n",
            "682\n",
            "709\n",
            "433\n",
            "823\n",
            "911\n",
            "825\n",
            "973\n",
            "151\n",
            "157\n",
            "639\n",
            "687\n",
            "786\n",
            "434\n",
            "677\n",
            "303\n",
            "382\n",
            "742\n",
            "965\n",
            "783\n",
            "76\n",
            "601\n",
            "294\n",
            "738\n",
            "88\n",
            "583\n",
            "297\n",
            "360\n",
            "233\n",
            "791\n",
            "683\n",
            "732\n",
            "740\n",
            "514\n",
            "598\n",
            "936\n",
            "582\n",
            "583\n",
            "81\n",
            "137\n",
            "249\n",
            "202\n",
            "878\n",
            "752\n",
            "778\n",
            "953\n",
            "492\n",
            "393\n",
            "784\n",
            "209\n",
            "746\n",
            "740\n",
            "3\n",
            "128\n",
            "678\n",
            "973\n",
            "595\n",
            "334\n",
            "393\n",
            "844\n",
            "236\n",
            "786\n",
            "801\n",
            "865\n",
            "442\n",
            "855\n",
            "394\n",
            "601\n",
            "469\n",
            "771\n",
            "964\n",
            "625\n",
            "822\n",
            "160\n",
            "183\n",
            "819\n",
            "630\n",
            "467\n",
            "562\n",
            "527\n",
            "53\n",
            "287\n",
            "991\n",
            "74\n",
            "1\n",
            "516\n",
            "466\n",
            "723\n",
            "177\n",
            "602\n",
            "604\n",
            "459\n",
            "587\n",
            "384\n",
            "158\n",
            "66\n",
            "270\n",
            "763\n",
            "805\n",
            "936\n",
            "449\n",
            "346\n",
            "128\n",
            "745\n",
            "413\n",
            "495\n",
            "607\n",
            "313\n",
            "103\n",
            "395\n",
            "800\n",
            "461\n",
            "675\n",
            "946\n",
            "888\n",
            "283\n",
            "391\n",
            "799\n",
            "605\n",
            "318\n",
            "601\n",
            "933\n",
            "314\n",
            "854\n",
            "537\n",
            "397\n",
            "147\n",
            "920\n",
            "373\n",
            "203\n",
            "978\n",
            "292\n",
            "352\n",
            "343\n",
            "784\n",
            "499\n",
            "123\n",
            "320\n",
            "865\n",
            "922\n",
            "24\n",
            "186\n",
            "603\n",
            "96\n",
            "530\n",
            "99\n",
            "509\n",
            "414\n",
            "427\n",
            "777\n",
            "Found!\n"
          ]
        }
      ]
    }
  ]
}