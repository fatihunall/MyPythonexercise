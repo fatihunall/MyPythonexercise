{
  "nbformat": 4,
  "nbformat_minor": 0,
  "metadata": {
    "colab": {
      "provenance": [],
      "include_colab_link": true
    },
    "kernelspec": {
      "name": "python3",
      "display_name": "Python 3"
    },
    "language_info": {
      "name": "python"
    }
  },
  "cells": [
    {
      "cell_type": "markdown",
      "metadata": {
        "id": "view-in-github",
        "colab_type": "text"
      },
      "source": [
        "<a href=\"https://colab.research.google.com/github/fatihunall/MyPythonexercise/blob/main/practical_exercise1.ipynb\" target=\"_parent\"><img src=\"https://colab.research.google.com/assets/colab-badge.svg\" alt=\"Open In Colab\"/></a>"
      ]
    },
    {
      "cell_type": "markdown",
      "source": [
        "# Practical exercise 1:  Plan an exciting adventure with a new friend\n",
        "\n",
        "Welcome to your first practical exercise for this course. Here you will get a chance to practice the concepts we've covered in the video lessons from the module and apply your new coding skills to plan an exciting adventure with a new friend you meet online."
      ],
      "metadata": {
        "id": "tBDsFMQwBs6Z"
      }
    },
    {
      "cell_type": "markdown",
      "source": [
        "##Warm up\n",
        "\n",
        "For this exercise, you will have to read the instructions, then write and run the code block. \n",
        "\n",
        "Let's test this. Do you remember all the keywords in Python? Probably not, but there is a quick and easy way to check them here.  \n",
        "\n",
        "1. Write the help() function in the code cell below and run the code. \n",
        "2. In the prompt that appears, type \"keywords\" and they will pop up."
      ],
      "metadata": {
        "id": "ymULFKyosM3d"
      }
    },
    {
      "cell_type": "code",
      "source": [
        "help()"
      ],
      "metadata": {
        "id": "0w6HGZBvsvru",
        "colab": {
          "base_uri": "https://localhost:8080/"
        },
        "outputId": "40a224cd-f7d0-4ccf-df28-bd0b03aa342e"
      },
      "execution_count": 1,
      "outputs": [
        {
          "output_type": "stream",
          "name": "stdout",
          "text": [
            "\n",
            "Welcome to Python 3.8's help utility!\n",
            "\n",
            "If this is your first time using Python, you should definitely check out\n",
            "the tutorial on the Internet at https://docs.python.org/3.8/tutorial/.\n",
            "\n",
            "Enter the name of any module, keyword, or topic to get help on writing\n",
            "Python programs and using Python modules.  To quit this help utility and\n",
            "return to the interpreter, just type \"quit\".\n",
            "\n",
            "To get a list of available modules, keywords, symbols, or topics, type\n",
            "\"modules\", \"keywords\", \"symbols\", or \"topics\".  Each module also comes\n",
            "with a one-line summary of what it does; to list the modules whose name\n",
            "or summary contain a given string such as \"spam\", type \"modules spam\".\n",
            "\n",
            "help> keywords\n",
            "\n",
            "Here is a list of the Python keywords.  Enter any keyword to get more help.\n",
            "\n",
            "False               class               from                or\n",
            "None                continue            global              pass\n",
            "True                def                 if                  raise\n",
            "and                 del                 import              return\n",
            "as                  elif                in                  try\n",
            "assert              else                is                  while\n",
            "async               except              lambda              with\n",
            "await               finally             nonlocal            yield\n",
            "break               for                 not                 \n",
            "\n",
            "\n",
            "You are now leaving help and returning to the Python interpreter.\n",
            "If you want to ask for help on a particular object directly from the\n",
            "interpreter, you can type \"help(object)\".  Executing \"help('string')\"\n",
            "has the same effect as typing a particular string at the help> prompt.\n"
          ]
        }
      ]
    },
    {
      "cell_type": "markdown",
      "source": [
        "🧨 Is the code cell above still running? If so, you can't continue!\n",
        "\n",
        "💣 Click the stop button next to the cell. Otherwise, it will continue to run infinitely and you will not be able to run other cells."
      ],
      "metadata": {
        "id": "kG-nBjLU1WPC"
      }
    },
    {
      "cell_type": "markdown",
      "source": [
        "# Meet Amir\n",
        "\n",
        "Let's say you are browsing the internet, when a pop up message shows on your screen, someone wants to meet you. \n",
        " "
      ],
      "metadata": {
        "id": "cnWVzlo1vBy8"
      }
    },
    {
      "cell_type": "code",
      "source": [
        "#Run this cell to see the message\n",
        "message = \"Hello, my name is Amir! Nice to meet you. What is yours?\"\n",
        "print(message)"
      ],
      "metadata": {
        "id": "JFUdDbEW7GqB",
        "colab": {
          "base_uri": "https://localhost:8080/"
        },
        "outputId": "5630de27-0b2b-4505-e773-5a1a620be45d"
      },
      "execution_count": 2,
      "outputs": [
        {
          "output_type": "stream",
          "name": "stdout",
          "text": [
            "Hello, my name is Amir! Nice to meet you. What is yours?\n"
          ]
        }
      ]
    },
    {
      "cell_type": "markdown",
      "source": [
        "Now, how would you answer Amir? \n",
        "\n",
        "Use the cell below to prepare an answer for him with a greeting and your name and print it to the screen. \n",
        "\n",
        "📌 We use the built-in function print() in Python to show results as output."
      ],
      "metadata": {
        "id": "Yr7uQq1J2k6p"
      }
    },
    {
      "cell_type": "code",
      "source": [
        "#Write your answer and print it on the screen\n",
        "print(\"Hello Amir! My name is Fatih. Pleasure is all mine\")\n"
      ],
      "metadata": {
        "id": "8S1F2r8NtEoN",
        "colab": {
          "base_uri": "https://localhost:8080/"
        },
        "outputId": "b01c5d7c-be3b-48ed-8eee-f66eea98aeaf"
      },
      "execution_count": 3,
      "outputs": [
        {
          "output_type": "stream",
          "name": "stdout",
          "text": [
            "Hello Amir! My name is Fatih. Pleasure is all mine\n"
          ]
        }
      ]
    },
    {
      "cell_type": "markdown",
      "source": [
        "Good job! Right away Amir writes you back with an intriguing question. He says, \"Would you like to plan an exciting adventure with me today?\" Well, why not! But before you start planning, maybe you need to learn a little bit more about each other."
      ],
      "metadata": {
        "id": "Vgv4mhyZEWR6"
      }
    },
    {
      "cell_type": "markdown",
      "source": [
        "#Get to know each other\n",
        "\n",
        "You ask Amir to tell you a little bit about himself, and here's what he tells you."
      ],
      "metadata": {
        "id": "QQIXQsmRwGqB"
      }
    },
    {
      "cell_type": "code",
      "source": [
        "#Run the cell to see his message\n",
        "his_age = 20\n",
        "his_height = 1.76\n",
        "his_hair_color = \"brunette\"\n",
        "his_hometown = \"Iran\"\n",
        "where_he_lives = \"Turkey\"\n",
        "\n",
        "print(\"I am\", str(his_age),\"years old,\",str(his_height),\"tall\",his_hair_color,\"guy from\",his_hometown,\"but I currently live in\",where_he_lives)\n",
        "\n",
        "print(\"What about you? Tell me about yourself.\")"
      ],
      "metadata": {
        "id": "dvTr4HR4wF4n",
        "colab": {
          "base_uri": "https://localhost:8080/"
        },
        "outputId": "57964ae6-739d-42d2-ea69-ed95fc465372"
      },
      "execution_count": 4,
      "outputs": [
        {
          "output_type": "stream",
          "name": "stdout",
          "text": [
            "I am 20 years old, 1.76 tall brunette guy from Iran but I currently live in Turkey\n",
            "What about you? Tell me about yourself.\n"
          ]
        }
      ]
    },
    {
      "cell_type": "markdown",
      "source": [
        "Now it is your turn to share, but first some preparation is needed.\n",
        "\n",
        "1. Write in information about yourself using the variables below. \n",
        "2. If there's something you don't want to share, you can use comments. Just put a \"#\" symbol in front of the code line and Python will not execute that line of code.\n",
        "3. Check the datatype of each variable.\n",
        "\n",
        "📌 Remember that there are different data types in Python and in order to use them in a sentence you may have to convert some of them. "
      ],
      "metadata": {
        "id": "L7-zc-wR5982"
      }
    },
    {
      "cell_type": "code",
      "source": [
        "#Please assign your age, height and other details you want to share.\n",
        "my_age = 24\n",
        "my_height = 1.76\n",
        "my_hair_color = \"brunette\"\n",
        "my_hometown = \"Turkey\"\n",
        "where_i_live = \"Turkey\"\n",
        "\n",
        "\n",
        "#Check the data type of the variables you want to use.\n",
        "type(my_age)\n",
        "type(my_height)\n",
        "type(my_hair_color)\n",
        "type(my_hometown)\n",
        "type(where_i_live)\n",
        "\n"
      ],
      "metadata": {
        "id": "MDTV-mOZBVOw",
        "colab": {
          "base_uri": "https://localhost:8080/"
        },
        "outputId": "98ad5ea7-7206-4231-fa9e-e1b293b37828"
      },
      "execution_count": 12,
      "outputs": [
        {
          "output_type": "execute_result",
          "data": {
            "text/plain": [
              "str"
            ]
          },
          "metadata": {},
          "execution_count": 12
        }
      ]
    },
    {
      "cell_type": "markdown",
      "source": [
        "Great, now that you know what you want to share and which variables need to be converted to strings, you're ready to write your sentence. "
      ],
      "metadata": {
        "id": "SDnrjsw7IC7Z"
      }
    },
    {
      "cell_type": "code",
      "source": [
        "#Write a sentence using the print function to describe yourself using the variables above in the correct data type\n",
        "print(\"I am \", str(my_age), \"years old.\", \"My height is \", str(my_height), \"and my hair color is\", my_hair_color,\".\",  \"I am from\", my_hometown, \"and I live in\", where_i_live, \"also\" )\n"
      ],
      "metadata": {
        "id": "0U8slyfyICeJ",
        "colab": {
          "base_uri": "https://localhost:8080/"
        },
        "outputId": "42f09137-dbe5-40c4-ec25-c6b7b6101a92"
      },
      "execution_count": 18,
      "outputs": [
        {
          "output_type": "stream",
          "name": "stdout",
          "text": [
            "I am  24 years old. My height is  1.76 and my hair color is brunette . I am from Turkey and I live in Turkey also\n"
          ]
        }
      ]
    },
    {
      "cell_type": "markdown",
      "source": [
        "#Where to go and what to eat\n",
        "\n",
        "Now that you know each other a little better, you can start planning your adventure. But where do you start? \n",
        "\n",
        "Let's start with locations and food. Amir asks you to make a list of places in the world that you want to visit and meals that you like to eat.\n",
        " \n",
        "Create a list 'favorite_places_and_foods' that contains at least 5 places and 5 meals.\n"
      ],
      "metadata": {
        "id": "7ICXdJRy9SWZ"
      }
    },
    {
      "cell_type": "code",
      "source": [
        "#Create your list\n",
        "favorite_places_and_foods = ['Adana','Balıkesir', 'İzmir', 'Konya','Rize', \"Kebap\",\"Höşmerim\",\"Boyoz\",\"Etli_Ekmek\", \"Kuymak\"]\n",
        "print(favorite_places_and_foods, type(favorite_places_and_foods))\n",
        "\n"
      ],
      "metadata": {
        "id": "FHdeAmG6Aw3h",
        "colab": {
          "base_uri": "https://localhost:8080/"
        },
        "outputId": "2e11d3ec-28f5-4e16-fa40-1c694d8fc92d"
      },
      "execution_count": 60,
      "outputs": [
        {
          "output_type": "stream",
          "name": "stdout",
          "text": [
            "['Adana', 'Balıkesir', 'İzmir', 'Konya', 'Rize', 'Kebap', 'Höşmerim', 'Boyoz', 'Etli_Ekmek', 'Kuymak'] <class 'list'>\n"
          ]
        }
      ]
    },
    {
      "cell_type": "markdown",
      "source": [
        "It's quite tough to choose from such great options. You need to narrow it down to three items per category. \n",
        "\n",
        "1. First you have to separate or 'slice' the places from the meals. \n",
        "2. Then select the first three items from the places list and the last ones from the foods list.\n",
        "3. Print the remaining options to the screen. \n",
        "\n",
        "📌 Do you remember the list slicing technique? For example, Mylist[1:3] will give the second and third value from Mylist."
      ],
      "metadata": {
        "id": "bHbGRpu2MmYH"
      }
    },
    {
      "cell_type": "code",
      "source": [
        "#Create two separate lists for places and foods using the list slicing technique\n",
        "favorite_places = favorite_places_and_foods[:4]\n",
        "favorite_foods = favorite_places_and_foods[4:]\n",
        "\n",
        "#Select the first and last three from place and food lists\n",
        "recommended_places = favorite_places[0:3]\n",
        "recommended_foods = favorite_foods[2:5]\n",
        "\n",
        "#Print both lists\n",
        "print(recommended_places)\n",
        "print(recommended_foods)"
      ],
      "metadata": {
        "id": "13LMxJu1CD-F",
        "colab": {
          "base_uri": "https://localhost:8080/"
        },
        "outputId": "d1360ba8-90e3-4b5c-cc27-3de9c5bc3ada"
      },
      "execution_count": 109,
      "outputs": [
        {
          "output_type": "stream",
          "name": "stdout",
          "text": [
            "['Adana', 'Balıkesir', 'İzmir']\n",
            "['Höşmerim', 'Boyoz', 'Etli_Ekmek']\n"
          ]
        }
      ]
    },
    {
      "cell_type": "markdown",
      "source": [
        "It's quite hard to make a choice from these three. But why not let the computer choose for you? Do you remember the game of dice from our videos? Here is what you need to do.\n",
        "\n",
        "1. Import the random module\n",
        "2. Generate two random numbers between 0-2\n",
        "3. Use each number as the index to choose an item from your favourite-place and food lists\n",
        "4. Print the results to the screen\n"
      ],
      "metadata": {
        "id": "R5LG-XXHBFFM"
      }
    },
    {
      "cell_type": "code",
      "source": [
        "#Please import the random module and generate two random numbers between 0 and 2\n",
        "import random\n",
        "a = random.randint(0,2)\n",
        "b = random.randint(0,2)\n",
        "\n",
        "#Use the generated numbers as indexes of randomely chosen items from place and food lists\n",
        "meeting_place = recommended_places[a]\n",
        "food_selection = recommended_foods[b]\n",
        "\n",
        "print(meeting_place)\n",
        "print(food_selection)\n",
        "\n"
      ],
      "metadata": {
        "id": "krGw2OUtC9y5",
        "colab": {
          "base_uri": "https://localhost:8080/"
        },
        "outputId": "b12cf12f-228a-4689-9790-bcf6195a5995"
      },
      "execution_count": 112,
      "outputs": [
        {
          "output_type": "stream",
          "name": "stdout",
          "text": [
            "Balıkesir\n",
            "Etli_Ekmek\n"
          ]
        }
      ]
    },
    {
      "cell_type": "markdown",
      "source": [
        "You must have found your location and food. But what else would you like to do on your adventure?"
      ],
      "metadata": {
        "id": "XzBTqk1yPZsM"
      }
    },
    {
      "cell_type": "markdown",
      "source": [
        "#Activities \n",
        "\n",
        "Now, you have your place and meals, but after lunch there are still lots of activities that you can do together...or separately.\n",
        "\n",
        "Let's say there are three pre-defined options: playing chess, playing tennis and visiting a museum. Chess and tennis require both of you to participate, but you can visit the museum separately as well. \n",
        "\n",
        "We need a code to indicate which activities each of you would like to do and which ones will be able to do. A chance to use our logical operators. \n",
        "\n",
        "1. Define activities\n",
        "2. Use the operands 'True' and 'False' to indicate your and Amir's preference for each activity\n",
        "3. Use the logical operators 'and' and 'or' to define which activities you will be able to do\n",
        "\n",
        "📌 Please add in the responces for Amir as well, by the way he doesn't like sports, but loves board games. "
      ],
      "metadata": {
        "id": "9t9q1B-WbW4i"
      }
    },
    {
      "cell_type": "code",
      "source": [
        "first_activity = \"lets play chess in the park\"\n",
        "second_activiy = \"lets play a game of tennis\"\n",
        "third_activity = \"lets go to the museum\"\n",
        "\n",
        "#Write your and Amir's preference for each activity either as \"True\" or \"False\"\n",
        "\n",
        "#First activity\n",
        "first_activity_your = False\n",
        "first_activity_friend = True\n",
        "\n",
        "#Example statement\n",
        "print(\"We are going to play chess in the park! Answer:\" ,first_activity_your and first_activity_friend)\n",
        " \n",
        "#Second activity\n",
        "\n",
        "second_activity_your =  True\n",
        "second_activity_friend = False\n",
        "\n",
        "#Your turn to write the statement\n",
        "print(\"We might play a game of tennis together Answer:\" ,second_activity_your and second_activity_friend)\n",
        "\n",
        "\n",
        "#Third activity\n",
        "third_activity_your = True\n",
        "third_activity_friend = True\n",
        "\n",
        "#Your turn to write the statement \n",
        "print(\"Also we can go to the museum together or seperately Answer:\", third_activity_your or second_activity_friend)\n"
      ],
      "metadata": {
        "id": "sNIV7420Yk-Y",
        "colab": {
          "base_uri": "https://localhost:8080/"
        },
        "outputId": "813b8b35-06ad-4142-d2db-ab8c8ca70b34"
      },
      "execution_count": 116,
      "outputs": [
        {
          "output_type": "stream",
          "name": "stdout",
          "text": [
            "We are going to play chess in the park! Answer: False\n",
            "We might play a game of tennis together Answer: False\n",
            "Also we can go to the museum together or seperately Answer: True\n"
          ]
        }
      ]
    },
    {
      "cell_type": "markdown",
      "source": [
        "#Get a date\n",
        "\n",
        "Finally you know where to meet, what to eat and what do to. The only last thing to decide is when to meet. How would you ask Amir for the date and time he wants to go on this adventure with you? \n",
        "\n",
        "📌📌Hint: Use the input() function."
      ],
      "metadata": {
        "id": "p_jbzGubELqR"
      }
    },
    {
      "cell_type": "code",
      "source": [
        "#Create a variable for your trip date that asks Amir for an input\n",
        "date_time = input(\"When do you want to meet!\")\n",
        "\n",
        "\n",
        "\n",
        "#Print the date for the trip by using it in a sentence\n",
        "print(\"OK then, see you on \", date_time, \"at\", meeting_place, \"to eat\", food_selection)"
      ],
      "metadata": {
        "id": "jGxVfccGEMZB",
        "colab": {
          "base_uri": "https://localhost:8080/"
        },
        "outputId": "dd7b0821-41ba-461f-df5a-1ce5a532a981"
      },
      "execution_count": 127,
      "outputs": [
        {
          "output_type": "stream",
          "name": "stdout",
          "text": [
            "When do you want to meet!Next Week\n",
            "OK then, see you on  Next Week at Balıkesir to eat Etli_Ekmek\n"
          ]
        }
      ]
    }
  ]
}